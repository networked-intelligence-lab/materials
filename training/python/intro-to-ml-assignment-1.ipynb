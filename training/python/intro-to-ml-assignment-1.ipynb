{
  "nbformat": 4,
  "nbformat_minor": 0,
  "metadata": {
    "colab": {
      "provenance": [],
      "authorship_tag": "ABX9TyNgiogvaVc661ARgeKLoF0R",
      "include_colab_link": true
    },
    "kernelspec": {
      "name": "python3",
      "display_name": "Python 3"
    },
    "language_info": {
      "name": "python"
    }
  },
  "cells": [
    {
      "cell_type": "markdown",
      "metadata": {
        "id": "view-in-github",
        "colab_type": "text"
      },
      "source": [
        "<a href=\"https://colab.research.google.com/gist/dakilaledesma/3b5cca222a86ffdaa363908c1ceb0df1/intro-to-ml-assignment-1.ipynb\" target=\"_parent\"><img src=\"https://colab.research.google.com/assets/colab-badge.svg\" alt=\"Open In Colab\"/></a>"
      ]
    },
    {
      "cell_type": "markdown",
      "source": [
        "## Assignment 1\n",
        "### The very basics with Scikit-Learn\n",
        "\n",
        "We will be starting out very easy for the first assignment. As we progress through the course, both the types of models and processes associated with these models will get harder and harder as we try to parse more complicated forms of information.\n",
        "\n",
        "For now, let's take it easy: lets make some models that can determine what language a word is part of.\n",
        "\n",
        "In this tutorial, we will be classifying whether a given 6-letter word is English or German. First, let's get some training and target data. See this table:\n",
        "\n",
        "| Training (often denoted as 'X') | Target (often denoted as 'y' |\n",
        "| ---- | ---- |\n",
        "|ANYONE|English|\n",
        "|UPROAR|English|\n",
        "|YELLOW|English|\n",
        "|BÄRGET|German|\n",
        "|ZURUFE|German|\n",
        "|WÜSTEM|German|\n",
        "\n",
        "<sub> Table 1: Training words and target labels in two languages </sub>\n",
        "\n",
        "The above table (make sure to read the headers) is a simple way to think about your training and target arrays. For classification, your data is structured in a way that \"X\" is the data you want to train on, and \"y\" is the label (or answer) associated with the data.\n",
        "\n",
        "However, as you have learnt in class already, you cannot just put in words into a model in verbatim. You'll have to change these words into a number representation in order to use them as data for our models.\n",
        "\n",
        "Python's ```ord()``` function allows us to convert a character into an integer. Using ```ord()``` and a for loop, we can iterate through a word and change every character into a number representation. We store these integers into an array that represents the original word."
      ],
      "metadata": {
        "id": "b5lPw0Ca9FqV"
      }
    },
    {
      "cell_type": "code",
      "source": [
        "string_to_ord = []\n",
        "for char in \"ANYONE\":\n",
        "  string_to_ord.append(ord(char))\n",
        "print(string_to_ord)"
      ],
      "metadata": {
        "colab": {
          "base_uri": "https://localhost:8080/"
        },
        "id": "2jnuSBY-9GCK",
        "outputId": "22997976-807e-4e24-db2d-ae951995faa8"
      },
      "execution_count": 1,
      "outputs": [
        {
          "output_type": "stream",
          "name": "stdout",
          "text": [
            "[65, 78, 89, 79, 78, 69]\n"
          ]
        }
      ]
    },
    {
      "cell_type": "markdown",
      "source": [
        "<sub> Code block 1: Changing letters into numbers using ```ord()``` </sub>\n",
        "\n",
        "You can think of the above code from letter to ```ord()``` number representation like this:\n",
        "\n",
        "|65|78|89|79|78|69|\n",
        "|---|---|---|---|---|---|\n",
        "|A|N|Y|O|N|E|\n",
        "\n",
        "<sub> Table 2: Letter to ```ord()``` visualization </sub>\n",
        "\n",
        "\n",
        "Now, when we make a two-dimensional array with the 6 words found in Table 1, it would look something like this:"
      ],
      "metadata": {
        "id": "l_WpVCK59OPS"
      }
    },
    {
      "cell_type": "code",
      "source": [
        "training = [\n",
        "  [65, 78, 89, 79, 78, 69],   # ANYONE\n",
        "  [85, 80, 82, 79, 65, 82],   # UPROAR\n",
        "  [89, 69, 76, 76, 79, 87],   # YELLOW\n",
        "  [66, 196, 82, 71, 69, 84],  # BÄRGET\n",
        "  [90, 85, 82, 85, 70, 69],   # ZURUFE\n",
        "  [87, 220, 83, 84, 69, 77]   # WÜSTEM\n",
        "]"
      ],
      "metadata": {
        "id": "Ov-gLHrR9OeO"
      },
      "execution_count": 2,
      "outputs": []
    },
    {
      "cell_type": "markdown",
      "source": [
        "<sub> Code block 2: Two-dimensional array representation of the 6 words found in Table 1 </sub>\n",
        "\n",
        "\n",
        "As you can see, it's now a two-dimensional array. Six one-dimensional arrays representing the six words that we had, all contained in a larger array named ```training```.\n",
        "\n",
        "Now that we have training data, we need to be able to tell the computer which data belongs in which category:"
      ],
      "metadata": {
        "id": "E0ZOjIgV9Wnf"
      }
    },
    {
      "cell_type": "code",
      "source": [
        "target = [\n",
        "    0, # English  (ANYONE)\n",
        "    0, # English  (UPROAR)\n",
        "    0, # English  (YELLOW)\n",
        "    1, # German   (BÄRGET)\n",
        "    1, # German   (ZURUFE)\n",
        "    1  # German   (WÜSTEM)\n",
        "]"
      ],
      "metadata": {
        "id": "WmRw5U5j9UKS"
      },
      "execution_count": 3,
      "outputs": []
    },
    {
      "cell_type": "markdown",
      "source": [
        "\n",
        "<sub> Code block 3 :Our one-dimensional target (\"label\"/\"answers\") array </sub>\n",
        "\n",
        "As you can see, labels are also represented as numbers, in the same index as their respective training data value. So when the model predicts 0, we know that it's English. When the model predicts 1, we know that it's German.\n",
        "\n",
        "Now, let's import the models needed for this assignment, and instantiate them. We will be using sklearn, and sklearn is *incredibly* easy to use if you need simpler models tackling simpler, easily differentiatable data such as English vs. German words. On tougher data, your mileage may vary."
      ],
      "metadata": {
        "id": "Zu5SICJD9dbx"
      }
    },
    {
      "cell_type": "code",
      "source": [
        "from sklearn.neighbors import KNeighborsClassifier\n",
        "from sklearn import svm\n",
        "from sklearn.neural_network import MLPClassifier\n",
        "\n",
        "knn_model = KNeighborsClassifier()\n",
        "svm_model = svm.SVC()\n",
        "mlp_nn = MLPClassifier()"
      ],
      "metadata": {
        "id": "xykznryL9a4z"
      },
      "execution_count": 4,
      "outputs": []
    },
    {
      "cell_type": "markdown",
      "source": [
        "<sub> Code block 4: Instantiating the models </sub>\n",
        "\n",
        "\n",
        "Now, we can train each of the models that we have with the data that we created using the ```fit()``` function, feeding in both our training data as well as our answer (target) data:"
      ],
      "metadata": {
        "id": "QMmx2q-J9gRd"
      }
    },
    {
      "cell_type": "code",
      "source": [
        "knn_model.fit(training, target)\n",
        "svm_model.fit(training, target)\n",
        "mlp_nn.fit(training, target)"
      ],
      "metadata": {
        "colab": {
          "base_uri": "https://localhost:8080/",
          "height": 74
        },
        "id": "w1AiIlCa9f3A",
        "outputId": "b9b4f807-eee4-4324-c7ea-7acc149e7558"
      },
      "execution_count": 5,
      "outputs": [
        {
          "output_type": "execute_result",
          "data": {
            "text/plain": [
              "MLPClassifier()"
            ],
            "text/html": [
              "<style>#sk-container-id-1 {color: black;background-color: white;}#sk-container-id-1 pre{padding: 0;}#sk-container-id-1 div.sk-toggleable {background-color: white;}#sk-container-id-1 label.sk-toggleable__label {cursor: pointer;display: block;width: 100%;margin-bottom: 0;padding: 0.3em;box-sizing: border-box;text-align: center;}#sk-container-id-1 label.sk-toggleable__label-arrow:before {content: \"▸\";float: left;margin-right: 0.25em;color: #696969;}#sk-container-id-1 label.sk-toggleable__label-arrow:hover:before {color: black;}#sk-container-id-1 div.sk-estimator:hover label.sk-toggleable__label-arrow:before {color: black;}#sk-container-id-1 div.sk-toggleable__content {max-height: 0;max-width: 0;overflow: hidden;text-align: left;background-color: #f0f8ff;}#sk-container-id-1 div.sk-toggleable__content pre {margin: 0.2em;color: black;border-radius: 0.25em;background-color: #f0f8ff;}#sk-container-id-1 input.sk-toggleable__control:checked~div.sk-toggleable__content {max-height: 200px;max-width: 100%;overflow: auto;}#sk-container-id-1 input.sk-toggleable__control:checked~label.sk-toggleable__label-arrow:before {content: \"▾\";}#sk-container-id-1 div.sk-estimator input.sk-toggleable__control:checked~label.sk-toggleable__label {background-color: #d4ebff;}#sk-container-id-1 div.sk-label input.sk-toggleable__control:checked~label.sk-toggleable__label {background-color: #d4ebff;}#sk-container-id-1 input.sk-hidden--visually {border: 0;clip: rect(1px 1px 1px 1px);clip: rect(1px, 1px, 1px, 1px);height: 1px;margin: -1px;overflow: hidden;padding: 0;position: absolute;width: 1px;}#sk-container-id-1 div.sk-estimator {font-family: monospace;background-color: #f0f8ff;border: 1px dotted black;border-radius: 0.25em;box-sizing: border-box;margin-bottom: 0.5em;}#sk-container-id-1 div.sk-estimator:hover {background-color: #d4ebff;}#sk-container-id-1 div.sk-parallel-item::after {content: \"\";width: 100%;border-bottom: 1px solid gray;flex-grow: 1;}#sk-container-id-1 div.sk-label:hover label.sk-toggleable__label {background-color: #d4ebff;}#sk-container-id-1 div.sk-serial::before {content: \"\";position: absolute;border-left: 1px solid gray;box-sizing: border-box;top: 0;bottom: 0;left: 50%;z-index: 0;}#sk-container-id-1 div.sk-serial {display: flex;flex-direction: column;align-items: center;background-color: white;padding-right: 0.2em;padding-left: 0.2em;position: relative;}#sk-container-id-1 div.sk-item {position: relative;z-index: 1;}#sk-container-id-1 div.sk-parallel {display: flex;align-items: stretch;justify-content: center;background-color: white;position: relative;}#sk-container-id-1 div.sk-item::before, #sk-container-id-1 div.sk-parallel-item::before {content: \"\";position: absolute;border-left: 1px solid gray;box-sizing: border-box;top: 0;bottom: 0;left: 50%;z-index: -1;}#sk-container-id-1 div.sk-parallel-item {display: flex;flex-direction: column;z-index: 1;position: relative;background-color: white;}#sk-container-id-1 div.sk-parallel-item:first-child::after {align-self: flex-end;width: 50%;}#sk-container-id-1 div.sk-parallel-item:last-child::after {align-self: flex-start;width: 50%;}#sk-container-id-1 div.sk-parallel-item:only-child::after {width: 0;}#sk-container-id-1 div.sk-dashed-wrapped {border: 1px dashed gray;margin: 0 0.4em 0.5em 0.4em;box-sizing: border-box;padding-bottom: 0.4em;background-color: white;}#sk-container-id-1 div.sk-label label {font-family: monospace;font-weight: bold;display: inline-block;line-height: 1.2em;}#sk-container-id-1 div.sk-label-container {text-align: center;}#sk-container-id-1 div.sk-container {/* jupyter's `normalize.less` sets `[hidden] { display: none; }` but bootstrap.min.css set `[hidden] { display: none !important; }` so we also need the `!important` here to be able to override the default hidden behavior on the sphinx rendered scikit-learn.org. See: https://github.com/scikit-learn/scikit-learn/issues/21755 */display: inline-block !important;position: relative;}#sk-container-id-1 div.sk-text-repr-fallback {display: none;}</style><div id=\"sk-container-id-1\" class=\"sk-top-container\"><div class=\"sk-text-repr-fallback\"><pre>MLPClassifier()</pre><b>In a Jupyter environment, please rerun this cell to show the HTML representation or trust the notebook. <br />On GitHub, the HTML representation is unable to render, please try loading this page with nbviewer.org.</b></div><div class=\"sk-container\" hidden><div class=\"sk-item\"><div class=\"sk-estimator sk-toggleable\"><input class=\"sk-toggleable__control sk-hidden--visually\" id=\"sk-estimator-id-1\" type=\"checkbox\" checked><label for=\"sk-estimator-id-1\" class=\"sk-toggleable__label sk-toggleable__label-arrow\">MLPClassifier</label><div class=\"sk-toggleable__content\"><pre>MLPClassifier()</pre></div></div></div></div></div>"
            ]
          },
          "metadata": {},
          "execution_count": 5
        }
      ]
    },
    {
      "cell_type": "markdown",
      "source": [
        "\n",
        "<sub> Code block 5: Fitting (\"training\") the models with our training and target arrays </sub>\n",
        "\n",
        "After they have trained, you can now predict using these models."
      ],
      "metadata": {
        "id": "UU0PkRW-9o-v"
      }
    },
    {
      "cell_type": "code",
      "source": [
        "# Predicting “ANYONE”\n",
        "print(knn_model.predict([[65, 78, 89, 79, 78, 69]])) # Output: 0 (English)\n",
        "print(svm_model.predict([[65, 78, 89, 79, 78, 69]])) # Output: 0 (English)\n",
        "print(mlp_nn.predict([[65, 78, 89, 79, 78, 69]])) # Output: 0 (English)\n",
        "\n",
        "# Predicting “BÄRGET”\n",
        "print(knn_model.predict([[66, 196, 82, 71, 69, 84]])) # Output: 1 (German)\n",
        "print(svm_model.predict([[66, 196, 82, 71, 69, 84]])) # Output: 1 (German)\n",
        "print(mlp_nn.predict([[66, 196, 82, 71, 69, 84]])) # Output: 1 (German)\n",
        "\n",
        "# Note that predict() must also take a 2D array as our training data was a 2D array."
      ],
      "metadata": {
        "colab": {
          "base_uri": "https://localhost:8080/"
        },
        "id": "7vCOm0NJ9lCl",
        "outputId": "9b355103-d02e-45b0-c687-bfb89065ad3f"
      },
      "execution_count": 6,
      "outputs": [
        {
          "output_type": "stream",
          "name": "stdout",
          "text": [
            "[0]\n",
            "[0]\n",
            "[0]\n",
            "[1]\n",
            "[1]\n",
            "[1]\n"
          ]
        }
      ]
    },
    {
      "cell_type": "markdown",
      "source": [
        "<sub> Code block 5: Prediction using the trainined models </sub>\n",
        "\n",
        "Obviously, this is not very helpful as we're testing them on the same words they're being trained on. However, this should give you an idea of how to predict using the models you have trained.\n",
        "\n",
        "Lastly, let's make a very simple bar graph using matplotlib, which is the last part of your assignment."
      ],
      "metadata": {
        "id": "OIsrC9KY9wRa"
      }
    },
    {
      "cell_type": "code",
      "source": [
        "import numpy as np\n",
        "import matplotlib.pyplot as plt\n",
        "\n",
        "# Label text for each graph\n",
        "labels = (\"KNN\", \"SVM\", \"MLP\")\n",
        "\n",
        "# Numbers that you want the bars to represent\n",
        "value = [81, 90, 71]\n",
        "\n",
        "# Title of the plot\n",
        "plt.title(\"Model Accuracy\")\n",
        "\n",
        "# Label for the x values of the bar graph\n",
        "plt.xlabel(\"Accuracy\")\n",
        "\n",
        "# Drawing the bar graph\n",
        "y_pos = np.arange(len(labels))\n",
        "plt.barh(y_pos, value, align=\"center\", alpha=0.5)\n",
        "plt.yticks(y_pos, labels)\n",
        "\n",
        "# Display the graph\n",
        "plt.show()"
      ],
      "metadata": {
        "colab": {
          "base_uri": "https://localhost:8080/",
          "height": 472
        },
        "id": "0rO4Z_I99rDN",
        "outputId": "f0da268f-e2c4-4525-ac79-0d1f68e98372"
      },
      "execution_count": 7,
      "outputs": [
        {
          "output_type": "display_data",
          "data": {
            "text/plain": [
              "<Figure size 640x480 with 1 Axes>"
            ],
            "image/png": "[encoded data removed]"
          },
          "metadata": {}
        }
      ]
    },
    {
      "cell_type": "markdown",
      "source": [
        "<sub> Code block 5: Making a bar graph with predetermined values </sub>\n",
        "\n",
        "\n",
        "This above is what you get! That should be all you need to do the assignment!"
      ],
      "metadata": {
        "id": "w4X3uDiF94Sa"
      }
    }
  ]
}