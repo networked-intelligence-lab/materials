{
  "cells": [
    {
      "cell_type": "markdown",
      "metadata": {
        "id": "view-in-github",
        "colab_type": "text"
      },
      "source": [
        "<a href=\"https://colab.research.google.com/gist/dakilaledesma/c6b7a59b740caf8a2298cd75826f0f8f/python-basics.ipynb\" target=\"_parent\"><img src=\"https://colab.research.google.com/assets/colab-badge.svg\" alt=\"Open In Colab\"/></a>"
      ]
    },
    {
      "cell_type": "markdown",
      "metadata": {
        "id": "zbJ2fw29OHAX"
      },
      "source": [
        "Notebook prepared by Mathieu Blondel."
      ]
    },
    {
      "cell_type": "markdown",
      "metadata": {
        "id": "JbVT11Y8CbAu"
      },
      "source": [
        "# Welcome"
      ]
    },
    {
      "cell_type": "markdown",
      "metadata": {
        "id": "kw1B2R_WCU7X"
      },
      "source": [
        "We will learn about the programming language Python."
      ]
    },
    {
      "cell_type": "markdown",
      "metadata": {
        "id": "YV4sYCn8EPwb"
      },
      "source": [
        "# Notebooks"
      ]
    },
    {
      "cell_type": "markdown",
      "metadata": {
        "id": "2HuuwOcQEYQI"
      },
      "source": [
        "We will use Jupyter notebooks and Google colab to learn Python. Notebooks are a great way to mix executable code with rich contents. Colab allows to run notebooks on the cloud for free without any prior installation."
      ]
    },
    {
      "cell_type": "markdown",
      "metadata": {
        "id": "t0XmMkPuGGOs"
      },
      "source": [
        "The document that you are reading is not a static web page, but an interactive environment called a notebook, that lets you write and execute code. Notebooks consist of so-called code cells, blocks of one or more Python instructions. For example, here is a code cell that stores the result of a computation (the number of seconds in a day) in a variable and prints its value:"
      ]
    },
    {
      "cell_type": "code",
      "execution_count": null,
      "metadata": {
        "colab": {
          "base_uri": "https://localhost:8080/"
        },
        "id": "qeGAvLq1ALJ4",
        "outputId": "1bdd7c68-f3bd-410c-8481-e5da19eacc68"
      },
      "outputs": [
        {
          "output_type": "execute_result",
          "data": {
            "text/plain": [
              "86400"
            ]
          },
          "metadata": {},
          "execution_count": 27
        }
      ],
      "source": [
        "seconds_in_a_day = 24 * 60 * 60\n",
        "seconds_in_a_day"
      ]
    },
    {
      "cell_type": "markdown",
      "metadata": {
        "id": "njoPs3q1G75-"
      },
      "source": [
        "Click on the \"play\" button to execute the cell. You should be able to see the result. Alternatively, you can also execute the cell by pressing Ctrl + Enter if you are on Windows / Linux or Command + Enter if you are on a Mac."
      ]
    },
    {
      "cell_type": "markdown",
      "metadata": {
        "id": "NvdYaBgHHdbw"
      },
      "source": [
        "Variables that you defined in one cell can later be used in other cells:"
      ]
    },
    {
      "cell_type": "code",
      "execution_count": null,
      "metadata": {
        "colab": {
          "base_uri": "https://localhost:8080/"
        },
        "id": "s1kp5Zv0JBSx",
        "outputId": "e85101bd-5a8b-4c7e-e09d-289bf4e34300"
      },
      "outputs": [
        {
          "output_type": "execute_result",
          "data": {
            "text/plain": [
              "604800"
            ]
          },
          "metadata": {},
          "execution_count": 28
        }
      ],
      "source": [
        "seconds_in_a_week = 7 * seconds_in_a_day\n",
        "seconds_in_a_week"
      ]
    },
    {
      "cell_type": "markdown",
      "metadata": {
        "id": "uALfY4q1JFQ0"
      },
      "source": [
        "Note that the order of execution is important. For instance, if we do not run the cell storing *seconds_in_a_day* beforehand, the above cell will raise an error, as it depends on this variable. To make sure that you run all the cells in the correct order, you can also click on \"Runtime\" in the top-level menu, then \"Run all\"."
      ]
    },
    {
      "cell_type": "markdown",
      "metadata": {
        "id": "HvXs_KaoRWQ9"
      },
      "source": [
        "**Exercise.** Add a cell below this cell: click on this cell then click on \"+ Code\". In the new cell, compute the number of seconds in a year by reusing the variable *seconds_in_a_day*. Run the new cell."
      ]
    },
    {
      "cell_type": "markdown",
      "metadata": {
        "id": "qyLSwlxnJqXX"
      },
      "source": [
        "# Python"
      ]
    },
    {
      "cell_type": "markdown",
      "metadata": {
        "id": "3ltwm91eJyQM"
      },
      "source": [
        "Python is one of the most popular programming languages for data science and machine learning, both in academia and in industry. As such, it is essential to learn this language for anyone interested in machine learning. In this section, we will review Python basics."
      ]
    },
    {
      "cell_type": "markdown",
      "metadata": {
        "id": "3EKvP6jiMZ9H"
      },
      "source": [
        "## Arithmetic operations"
      ]
    },
    {
      "cell_type": "markdown",
      "metadata": {
        "id": "DDjs0-7YQ80h"
      },
      "source": [
        "Python supports the usual arithmetic operators: + (addition), * (multiplication), / (division), ** (power), // (integer division)."
      ]
    },
    {
      "cell_type": "code",
      "execution_count": null,
      "metadata": {
        "id": "-funj4XuRwZf",
        "outputId": "9be27c5f-9126-4abb-d06b-2e29cb66d218",
        "colab": {
          "base_uri": "https://localhost:8080/"
        }
      },
      "outputs": [
        {
          "output_type": "execute_result",
          "data": {
            "text/plain": [
              "3"
            ]
          },
          "metadata": {},
          "execution_count": 29
        }
      ],
      "source": [
        "1 + 2"
      ]
    },
    {
      "cell_type": "code",
      "execution_count": null,
      "metadata": {
        "id": "sMz3x4jjRwZf",
        "outputId": "2ad5837f-0f0f-4228-8a7b-96ed34971da6",
        "colab": {
          "base_uri": "https://localhost:8080/"
        }
      },
      "outputs": [
        {
          "output_type": "execute_result",
          "data": {
            "text/plain": [
              "2"
            ]
          },
          "metadata": {},
          "execution_count": 30
        }
      ],
      "source": [
        "3-1"
      ]
    },
    {
      "cell_type": "code",
      "execution_count": null,
      "metadata": {
        "id": "Rtbx67wCRwZf",
        "outputId": "7d99974f-02c0-438d-cff5-9f336d7ad954",
        "colab": {
          "base_uri": "https://localhost:8080/"
        }
      },
      "outputs": [
        {
          "output_type": "execute_result",
          "data": {
            "text/plain": [
              "8"
            ]
          },
          "metadata": {},
          "execution_count": 31
        }
      ],
      "source": [
        "2*4"
      ]
    },
    {
      "cell_type": "code",
      "execution_count": null,
      "metadata": {
        "id": "JNei6M5JRwZg",
        "outputId": "c94b0c1d-99a5-44ef-9e62-6e69e719577e",
        "colab": {
          "base_uri": "https://localhost:8080/"
        }
      },
      "outputs": [
        {
          "output_type": "execute_result",
          "data": {
            "text/plain": [
              "2.5"
            ]
          },
          "metadata": {},
          "execution_count": 32
        }
      ],
      "source": [
        "5/2"
      ]
    },
    {
      "cell_type": "code",
      "execution_count": null,
      "metadata": {
        "id": "qjgSNNUKRwZg",
        "outputId": "58ed2545-6937-4d5a-f06c-de88b069620f",
        "colab": {
          "base_uri": "https://localhost:8080/"
        }
      },
      "outputs": [
        {
          "output_type": "execute_result",
          "data": {
            "text/plain": [
              "8"
            ]
          },
          "metadata": {},
          "execution_count": 33
        }
      ],
      "source": [
        "2**3"
      ]
    },
    {
      "cell_type": "code",
      "execution_count": null,
      "metadata": {
        "id": "VAmNW7RsRwZg",
        "outputId": "8ea6c6c9-a12f-4204-8d89-5d71335c81be",
        "colab": {
          "base_uri": "https://localhost:8080/"
        }
      },
      "outputs": [
        {
          "output_type": "execute_result",
          "data": {
            "text/plain": [
              "2"
            ]
          },
          "metadata": {},
          "execution_count": 34
        }
      ],
      "source": [
        "5//2"
      ]
    },
    {
      "cell_type": "code",
      "execution_count": null,
      "metadata": {
        "id": "DTYChHZERwZg"
      },
      "outputs": [],
      "source": []
    },
    {
      "cell_type": "markdown",
      "metadata": {
        "id": "UhcbBQUiStHG"
      },
      "source": [
        "## Lists"
      ]
    },
    {
      "cell_type": "markdown",
      "metadata": {
        "id": "RkPn1IjNTCxA"
      },
      "source": [
        "Lists are a container type for ordered sequences of elements. Lists can be initialized empty"
      ]
    },
    {
      "cell_type": "code",
      "execution_count": null,
      "metadata": {
        "id": "OrnV1ySAPtHp"
      },
      "outputs": [],
      "source": [
        "my_list = []"
      ]
    },
    {
      "cell_type": "markdown",
      "metadata": {
        "id": "OwRqyYI9XnPK"
      },
      "source": [
        "or with some initial elements"
      ]
    },
    {
      "cell_type": "code",
      "execution_count": null,
      "metadata": {
        "id": "Uq5YTJ1JXpOX"
      },
      "outputs": [],
      "source": [
        "my_list = [1, 2, 3]"
      ]
    },
    {
      "cell_type": "markdown",
      "metadata": {
        "id": "Hk2WmojJXyyz"
      },
      "source": [
        "Lists have a dynamic size and elements can be added (appended) to them"
      ]
    },
    {
      "cell_type": "code",
      "execution_count": null,
      "metadata": {
        "colab": {
          "base_uri": "https://localhost:8080/"
        },
        "id": "QFTNqiYiXxAh",
        "outputId": "7d419409-3159-4f1d-b67c-f34304becd04"
      },
      "outputs": [
        {
          "output_type": "execute_result",
          "data": {
            "text/plain": [
              "[1, 2, 3, 4]"
            ]
          },
          "metadata": {},
          "execution_count": 37
        }
      ],
      "source": [
        "my_list.append(4)\n",
        "my_list"
      ]
    },
    {
      "cell_type": "markdown",
      "metadata": {
        "id": "IUnJuqQ2Yhzw"
      },
      "source": [
        "We can access individual elements of a list (indexing starts from 0)"
      ]
    },
    {
      "cell_type": "code",
      "execution_count": null,
      "metadata": {
        "colab": {
          "base_uri": "https://localhost:8080/"
        },
        "id": "pyFxyZPVYpG_",
        "outputId": "48ed3415-fb44-4810-d619-a084e7a59a0c"
      },
      "outputs": [
        {
          "output_type": "execute_result",
          "data": {
            "text/plain": [
              "3"
            ]
          },
          "metadata": {},
          "execution_count": 38
        }
      ],
      "source": [
        "my_list[2]"
      ]
    },
    {
      "cell_type": "markdown",
      "metadata": {
        "id": "hPMrIDYsdgMP"
      },
      "source": [
        "We can access \"slices\" of a list using `my_list[i:j]` where `i` is the start of the slice (again, indexing starts from 0) and `j` the end of the slice. For instance:"
      ]
    },
    {
      "cell_type": "code",
      "execution_count": null,
      "metadata": {
        "colab": {
          "base_uri": "https://localhost:8080/"
        },
        "id": "Ichf9p0gd7tJ",
        "outputId": "dd6ed812-9ead-4be0-a123-74d9a7e414ad"
      },
      "outputs": [
        {
          "output_type": "execute_result",
          "data": {
            "text/plain": [
              "[2, 3]"
            ]
          },
          "metadata": {},
          "execution_count": 39
        }
      ],
      "source": [
        "my_list[1:3]"
      ]
    },
    {
      "cell_type": "markdown",
      "metadata": {
        "id": "KMbzH4tzQ9rI"
      },
      "source": [
        "Omitting the second index means that the slice shoud run until the end of the list"
      ]
    },
    {
      "cell_type": "code",
      "execution_count": null,
      "metadata": {
        "colab": {
          "base_uri": "https://localhost:8080/"
        },
        "id": "O7wCthKnREKV",
        "outputId": "5c99ef34-5dee-4807-92b8-db4f49e2f990"
      },
      "outputs": [
        {
          "output_type": "execute_result",
          "data": {
            "text/plain": [
              "[2, 3, 4]"
            ]
          },
          "metadata": {},
          "execution_count": 40
        }
      ],
      "source": [
        "my_list[1:]"
      ]
    },
    {
      "cell_type": "markdown",
      "metadata": {
        "id": "C5Aeu7PUebrK"
      },
      "source": [
        "We can check if an element is in the list using `in`"
      ]
    },
    {
      "cell_type": "code",
      "execution_count": null,
      "metadata": {
        "colab": {
          "base_uri": "https://localhost:8080/"
        },
        "id": "a_P5NCi-efvb",
        "outputId": "6b5d349c-54ed-4e89-93e4-98ddf6714db2"
      },
      "outputs": [
        {
          "output_type": "execute_result",
          "data": {
            "text/plain": [
              "False"
            ]
          },
          "metadata": {},
          "execution_count": 41
        }
      ],
      "source": [
        "5 in my_list"
      ]
    },
    {
      "cell_type": "markdown",
      "metadata": {
        "id": "LypIsP5gkl10"
      },
      "source": [
        "The length of a list can be obtained using the `len` function"
      ]
    },
    {
      "cell_type": "code",
      "execution_count": null,
      "metadata": {
        "colab": {
          "base_uri": "https://localhost:8080/"
        },
        "id": "ac0FMsaKkrWc",
        "outputId": "a1c2bff0-f1c0-499c-85e7-1a474b36b03a"
      },
      "outputs": [
        {
          "output_type": "execute_result",
          "data": {
            "text/plain": [
              "4"
            ]
          },
          "metadata": {},
          "execution_count": 42
        }
      ],
      "source": [
        "len(my_list)"
      ]
    },
    {
      "cell_type": "markdown",
      "metadata": {
        "id": "1c3RLStf7G2I"
      },
      "source": [
        "## Strings"
      ]
    },
    {
      "cell_type": "markdown",
      "metadata": {
        "id": "Jm6hZhgz7KhI"
      },
      "source": [
        "Strings are used to store text. They can delimited using either single quotes or double quotes"
      ]
    },
    {
      "cell_type": "code",
      "execution_count": null,
      "metadata": {
        "id": "cCma6Oj_7T8n"
      },
      "outputs": [],
      "source": [
        "string1 = \"some text\"\n",
        "string2 = 'some other text'"
      ]
    },
    {
      "cell_type": "markdown",
      "metadata": {
        "id": "Irr4xuWu7Znu"
      },
      "source": [
        "Strings behave similarly to lists. As such we can access individual elements in exactly the same way"
      ]
    },
    {
      "cell_type": "code",
      "execution_count": null,
      "metadata": {
        "colab": {
          "base_uri": "https://localhost:8080/"
        },
        "id": "26_POhLO7iM3",
        "outputId": "c2f89ab4-db43-4a01-a7de-cb1ee680a4c4"
      },
      "outputs": [
        {
          "output_type": "execute_result",
          "data": {
            "text/plain": [
              "'e'"
            ],
            "application/vnd.google.colaboratory.intrinsic+json": {
              "type": "string"
            }
          },
          "metadata": {},
          "execution_count": 44
        }
      ],
      "source": [
        "string1[3]"
      ]
    },
    {
      "cell_type": "markdown",
      "metadata": {
        "id": "oA_UD0JV7oPw"
      },
      "source": [
        "and similarly for slices"
      ]
    },
    {
      "cell_type": "code",
      "execution_count": null,
      "metadata": {
        "colab": {
          "base_uri": "https://localhost:8080/"
        },
        "id": "dcZFcLqQ7qCe",
        "outputId": "7fc1b8be-6945-4ba4-e3d2-193d47ff39de"
      },
      "outputs": [
        {
          "output_type": "execute_result",
          "data": {
            "text/plain": [
              "'text'"
            ],
            "application/vnd.google.colaboratory.intrinsic+json": {
              "type": "string"
            }
          },
          "metadata": {},
          "execution_count": 45
        }
      ],
      "source": [
        "string1[5:]"
      ]
    },
    {
      "cell_type": "markdown",
      "metadata": {
        "id": "hOQ_CIiu76YG"
      },
      "source": [
        "String concatenation is performed using the `+` operator"
      ]
    },
    {
      "cell_type": "code",
      "execution_count": null,
      "metadata": {
        "colab": {
          "base_uri": "https://localhost:8080/"
        },
        "id": "mxqNMKCY79_W",
        "outputId": "77f1847f-6c80-4dd3-b247-8ef412f52db4"
      },
      "outputs": [
        {
          "output_type": "execute_result",
          "data": {
            "text/plain": [
              "'some text some other text'"
            ],
            "application/vnd.google.colaboratory.intrinsic+json": {
              "type": "string"
            }
          },
          "metadata": {},
          "execution_count": 46
        }
      ],
      "source": [
        "string1 + \" \" + string2"
      ]
    },
    {
      "cell_type": "markdown",
      "metadata": {
        "id": "7Lox2GZCMdIB"
      },
      "source": [
        "## Conditionals"
      ]
    },
    {
      "cell_type": "markdown",
      "metadata": {
        "id": "MzHwRm_2RwZl"
      },
      "source": [
        "## In Python, indentation matters!"
      ]
    },
    {
      "cell_type": "markdown",
      "metadata": {
        "id": "-gXEAWFZfDTT"
      },
      "source": [
        "As their name indicates, conditionals are a way to execute code depending on whether a condition is True or False. As in other languages, Python supports `if` and `else` but `else if` is contracted into `elif`, as the example below demonstrates. "
      ]
    },
    {
      "cell_type": "code",
      "execution_count": null,
      "metadata": {
        "colab": {
          "base_uri": "https://localhost:8080/"
        },
        "id": "xC_DMZjofoYZ",
        "outputId": "56a21e1b-9060-46d8-b34d-6ee134ae54a4"
      },
      "outputs": [
        {
          "output_type": "stream",
          "name": "stdout",
          "text": [
            "positive\n"
          ]
        }
      ],
      "source": [
        "my_variable = 5\n",
        "if my_variable < 0:\n",
        "  print(\"negative\")\n",
        "elif my_variable == 0:\n",
        "  print(\"null\")\n",
        "else: # my_variable > 0\n",
        "  print(\"positive\")"
      ]
    },
    {
      "cell_type": "markdown",
      "metadata": {
        "id": "Ag0SUokSf9jl"
      },
      "source": [
        "Here `<` and `>` are the strict `less` and `greater than` operators, while `==` is the equality operator (not to be confused with `=`, the variable assignment operator). The operators `<=` and `>=` can be used for less (resp. greater) than or equal comparisons."
      ]
    },
    {
      "cell_type": "markdown",
      "metadata": {
        "id": "qTkQ2F_jy8wz"
      },
      "source": [
        "Contrary to other languages, blocks of code are delimited using indentation. Here, we use 2-space indentation but many programmers also use 4-space indentation. Any one is fine as long as you are consistent throughout your code."
      ]
    },
    {
      "cell_type": "markdown",
      "metadata": {
        "id": "clWaFCzBMfkv"
      },
      "source": [
        "## Loops"
      ]
    },
    {
      "cell_type": "markdown",
      "metadata": {
        "id": "_A5doqhTivWe"
      },
      "source": [
        "Loops are a way to execute a block of code multiple times. There are two main types of loops: while loops and for loops."
      ]
    },
    {
      "cell_type": "markdown",
      "metadata": {
        "id": "YN8lwTxQkGEa"
      },
      "source": [
        "While loop"
      ]
    },
    {
      "cell_type": "code",
      "execution_count": null,
      "metadata": {
        "colab": {
          "base_uri": "https://localhost:8080/"
        },
        "id": "7-QXGqgOjsr_",
        "outputId": "583915b0-45de-4791-eb4a-942ce4872f8d"
      },
      "outputs": [
        {
          "output_type": "stream",
          "name": "stdout",
          "text": [
            "1\n",
            "2\n",
            "3\n",
            "4\n"
          ]
        }
      ],
      "source": [
        "i = 0\n",
        "while i < len(my_list):\n",
        "  print(my_list[i])\n",
        "  i += 1 # equivalent to i = i + 1"
      ]
    },
    {
      "cell_type": "markdown",
      "metadata": {
        "id": "8mEI_ocfkSvZ"
      },
      "source": [
        "For loop"
      ]
    },
    {
      "cell_type": "code",
      "execution_count": null,
      "metadata": {
        "colab": {
          "base_uri": "https://localhost:8080/"
        },
        "id": "2QObx5mckMcI",
        "outputId": "8f99cc2d-f4aa-4b42-b1a2-f9951e45c7b2"
      },
      "outputs": [
        {
          "output_type": "stream",
          "name": "stdout",
          "text": [
            "1\n",
            "2\n",
            "3\n",
            "4\n"
          ]
        }
      ],
      "source": [
        "for i in range(len(my_list)):\n",
        "  print(my_list[i])"
      ]
    },
    {
      "cell_type": "markdown",
      "metadata": {
        "id": "XO6qqppikZvm"
      },
      "source": [
        "If the goal is simply to iterate over a list, we can do so directly as follows"
      ]
    },
    {
      "cell_type": "code",
      "execution_count": null,
      "metadata": {
        "colab": {
          "base_uri": "https://localhost:8080/"
        },
        "id": "PjFKzN6zkeJ7",
        "outputId": "33daca6c-c568-47c7-8ac3-ad72169dd6f1"
      },
      "outputs": [
        {
          "output_type": "stream",
          "name": "stdout",
          "text": [
            "1\n",
            "2\n",
            "3\n",
            "4\n"
          ]
        }
      ],
      "source": [
        "for element in my_list:\n",
        "  print(element)"
      ]
    },
    {
      "cell_type": "markdown",
      "metadata": {
        "id": "Cck4zwYrex02"
      },
      "source": [
        "## Functions"
      ]
    },
    {
      "cell_type": "markdown",
      "metadata": {
        "id": "n1PbIf_ohxFO"
      },
      "source": [
        "To improve code readability, it is common to separate the code into different blocks, responsible for performing precise actions: functions. A function takes some inputs and process them to return some outputs."
      ]
    },
    {
      "cell_type": "code",
      "execution_count": null,
      "metadata": {
        "colab": {
          "base_uri": "https://localhost:8080/"
        },
        "id": "cImA09gOhRmx",
        "outputId": "c9f08bf5-3c16-43c2-d423-f18e90cb34b2"
      },
      "outputs": [
        {
          "output_type": "execute_result",
          "data": {
            "text/plain": [
              "36"
            ]
          },
          "metadata": {},
          "execution_count": 51
        }
      ],
      "source": [
        "def square(x):\n",
        "  return x ** 2\n",
        "\n",
        "def multiply(a, b):\n",
        "  return a * b\n",
        "\n",
        "# Functions can be composed.\n",
        "square(multiply(3, 2))"
      ]
    },
    {
      "cell_type": "markdown",
      "metadata": {
        "id": "75-5SOk9iYSt"
      },
      "source": [
        "To improve code readability, it is sometimes useful to explicitly name the arguments"
      ]
    },
    {
      "cell_type": "code",
      "execution_count": null,
      "metadata": {
        "colab": {
          "base_uri": "https://localhost:8080/"
        },
        "id": "wkIUuZHhidI0",
        "outputId": "12fe6059-6be2-4183-c94f-8731222492f7"
      },
      "outputs": [
        {
          "output_type": "execute_result",
          "data": {
            "text/plain": [
              "36"
            ]
          },
          "metadata": {},
          "execution_count": 52
        }
      ],
      "source": [
        "square(multiply(a=3, b=2))"
      ]
    },
    {
      "cell_type": "markdown",
      "source": [
        "## Class and Objects"
      ],
      "metadata": {
        "id": "iwhPRuIP4kTA"
      }
    },
    {
      "cell_type": "markdown",
      "source": [
        "In Python (and other similar object-oriented programming languages), a class is a means to define an *object*. An object may have some associated properties that are attributed to it, and can be passed around to different functions.\n",
        "\n",
        "For example, we can define a `Person` object to have the properties \"name\" and \"age.\""
      ],
      "metadata": {
        "id": "AIPC9Jcx42sv"
      }
    },
    {
      "cell_type": "code",
      "source": [
        "class Person:\n",
        "  name = \"Dax\"\n",
        "  age = 25\n",
        "\n",
        "print(Person.name)\n",
        "print(Person.age)"
      ],
      "metadata": {
        "colab": {
          "base_uri": "https://localhost:8080/"
        },
        "id": "Tkln0JUG4jHa",
        "outputId": "973369a3-09b4-4073-c76a-696c0cb355c2"
      },
      "execution_count": null,
      "outputs": [
        {
          "output_type": "stream",
          "name": "stdout",
          "text": [
            "Dax\n",
            "25\n"
          ]
        }
      ]
    },
    {
      "cell_type": "markdown",
      "source": [
        "However, defining a `Person` like above isn't useful. Why? Well, not every `Person`'s name is Dax, nor their age 25. A more useful way of defining a class is through an `__init__` function. This function allows us to define a class' property. When we define a `Person`, we can use the `Person` class like a function, and pass it variables defined in the `__init__` function. For example:"
      ],
      "metadata": {
        "id": "qhJGqZpc5sCq"
      }
    },
    {
      "cell_type": "code",
      "source": [
        "class Person:\n",
        "  def __init__(self, name, age):\n",
        "    self.name = name\n",
        "    self.age = age\n",
        "\n",
        "mentor = Person(\"Dax\", 25)\n",
        "\n",
        "print(mentor.name, mentor.age)"
      ],
      "metadata": {
        "colab": {
          "base_uri": "https://localhost:8080/"
        },
        "id": "HaBq6wHx5kdw",
        "outputId": "b0cd5ac1-dfd5-4325-8e13-48e6b515b1f2"
      },
      "execution_count": null,
      "outputs": [
        {
          "output_type": "stream",
          "name": "stdout",
          "text": [
            "Dax 25\n"
          ]
        }
      ]
    },
    {
      "cell_type": "markdown",
      "source": [
        "We can now extend the `Person` class to have different functionality and allow it to change internal variables. For example, I extend the `Person` class to have a `birthday()` function that increment's that person's age by one."
      ],
      "metadata": {
        "id": "3Tj_0ZW37QX_"
      }
    },
    {
      "cell_type": "code",
      "source": [
        "class Person:\n",
        "  def __init__(self, name, age):\n",
        "    self.name = name\n",
        "    self.age = age\n",
        "\n",
        "  def birthday(self):\n",
        "    self.age += 1\n",
        "\n",
        "mentor = Person(\"Dax\", 25)\n",
        "print(mentor.age)\n",
        "\n",
        "mentor.birthday()\n",
        "print(mentor.age)"
      ],
      "metadata": {
        "colab": {
          "base_uri": "https://localhost:8080/"
        },
        "id": "uDRy-PQ96_Vh",
        "outputId": "d1b01d02-92b4-4bf3-a2f5-34d46f8618dc"
      },
      "execution_count": null,
      "outputs": [
        {
          "output_type": "stream",
          "name": "stdout",
          "text": [
            "25\n",
            "26\n"
          ]
        }
      ]
    },
    {
      "cell_type": "markdown",
      "source": [
        "# Numpy"
      ],
      "metadata": {
        "id": "AyUfeHNSqarH"
      }
    },
    {
      "cell_type": "code",
      "source": [
        "import numpy as np"
      ],
      "metadata": {
        "id": "poUhOV9msX8B"
      },
      "execution_count": 8,
      "outputs": []
    },
    {
      "cell_type": "markdown",
      "source": [
        "A very important (and common) data type/object that one will encounter is a multi-dimensional list. To put simply, a two-dimensional list contains a list inside of a list, a three-dimensional list contains list inside of a list inside of a list, etc. Let's visualize what that is."
      ],
      "metadata": {
        "id": "EOyoTHFNqg8U"
      }
    },
    {
      "cell_type": "code",
      "source": [
        "twod_list = []\n",
        "for word in \"Hello, my name is Dax\".split(' '):\n",
        "  twod_list.append([ord(c) for c in word])\n",
        "\n",
        "print(twod_list)"
      ],
      "metadata": {
        "colab": {
          "base_uri": "https://localhost:8080/"
        },
        "id": "e0WAWYNZqgYk",
        "outputId": "95d42b3f-45ba-4d40-e04b-8d00f139d2ad"
      },
      "execution_count": 2,
      "outputs": [
        {
          "output_type": "stream",
          "name": "stdout",
          "text": [
            "[[72, 101, 108, 108, 111, 44], [109, 121], [110, 97, 109, 101], [105, 115], [68, 97, 120]]\n"
          ]
        }
      ]
    },
    {
      "cell_type": "markdown",
      "source": [
        "It's common for images to be in a 3-dimensional list. Why? Because an image has rows, columns, and R, G, B values. So one list contains all the rows in an image, one list contains all the column values in that row, and each of the value contains a list in format [R, G, B]."
      ],
      "metadata": {
        "id": "WkJSVcCUroI3"
      }
    },
    {
      "cell_type": "code",
      "source": [
        "from PIL import Image\n",
        "\n",
        "\n",
        "im = Image.open(\"v.png\")\n",
        "print(np.array(im))"
      ],
      "metadata": {
        "colab": {
          "base_uri": "https://localhost:8080/"
        },
        "id": "UnUL7Z9mr9HZ",
        "outputId": "a8e6d786-e1ea-47ab-a8f8-6ae5174739c5"
      },
      "execution_count": 9,
      "outputs": [
        {
          "output_type": "stream",
          "name": "stdout",
          "text": [
            "[[[151 135 122]\n",
            "  [154 138 125]\n",
            "  [151 135 122]\n",
            "  ...\n",
            "  [170 151 139]\n",
            "  [170 151 139]\n",
            "  [170 151 139]]\n",
            "\n",
            " [[152 136 123]\n",
            "  [156 140 127]\n",
            "  [155 139 126]\n",
            "  ...\n",
            "  [170 151 139]\n",
            "  [170 151 139]\n",
            "  [170 151 139]]\n",
            "\n",
            " [[152 136 123]\n",
            "  [157 141 128]\n",
            "  [157 141 128]\n",
            "  ...\n",
            "  [167 148 136]\n",
            "  [167 148 136]\n",
            "  [167 148 136]]\n",
            "\n",
            " ...\n",
            "\n",
            " [[174 151 136]\n",
            "  [174 151 136]\n",
            "  [175 152 137]\n",
            "  ...\n",
            "  [124 108  95]\n",
            "  [123 107  94]\n",
            "  [127 111  98]]\n",
            "\n",
            " [[174 151 136]\n",
            "  [174 151 136]\n",
            "  [175 152 137]\n",
            "  ...\n",
            "  [126 110  97]\n",
            "  [126 110  97]\n",
            "  [130 114 101]]\n",
            "\n",
            " [[174 151 136]\n",
            "  [174 151 136]\n",
            "  [175 152 137]\n",
            "  ...\n",
            "  [123 107  94]\n",
            "  [126 110  97]\n",
            "  [133 117 104]]]\n"
          ]
        }
      ]
    },
    {
      "cell_type": "markdown",
      "source": [
        "Numpy is a really convenient library to manipulate multi-dimensional data. Let's explore what it can do:"
      ],
      "metadata": {
        "id": "UywtHT9QseeR"
      }
    },
    {
      "cell_type": "markdown",
      "source": [
        "## Defining an array"
      ],
      "metadata": {
        "id": "chMxSmJntASL"
      }
    },
    {
      "cell_type": "code",
      "source": [
        "a = np.array([1,2,3])\n",
        "b = np.array([(1.5,2,3), (4,5,6)], dtype = float)\n",
        "c = np.array([[(1.5,2,3), (4,5,6)],[(3,2,1), (4,5,6)]], dtype = float)\n",
        "\n",
        "d = np.zeros((3,4)) #Create an array of zeros\n",
        "e = np.ones((2,3,4),dtype=np.int16) #Create an array of ones\n",
        "\n",
        "f = np.arange(10,25,5)#Create an array of evenly spaced values (step value)\n",
        "g = np.linspace(0,2,9) #Create an array of evenlyspaced values (number of samples)\n",
        "\n",
        "h = np.full((2,2),7)#Create a constant array\n",
        "i = np.eye(2) #Create a 2X2 identity matrix\n",
        "j = np.random.random((2,2)) #Create an array with random values\n",
        "k = np.empty((3,2)) #Create an empty array"
      ],
      "metadata": {
        "id": "eKB1ItEysb_F"
      },
      "execution_count": 12,
      "outputs": []
    },
    {
      "cell_type": "code",
      "source": [
        "def namestr(obj, namespace):\n",
        "    return [name for name in namespace if namespace[name] is obj]\n",
        "\n",
        "for arr in [a, b, c, d, e, f, g, h, i, j, k]:\n",
        "  print(namestr(arr, globals())[0], arr, \"\\n\")"
      ],
      "metadata": {
        "colab": {
          "base_uri": "https://localhost:8080/"
        },
        "id": "1Tily8oAtDFz",
        "outputId": "50f8d2eb-6d10-4c67-b050-8e83ea97e1ef"
      },
      "execution_count": 17,
      "outputs": [
        {
          "output_type": "stream",
          "name": "stdout",
          "text": [
            "a [1 2 3] \n",
            "\n",
            "b [[1.5 2.  3. ]\n",
            " [4.  5.  6. ]] \n",
            "\n",
            "c [[[1.5 2.  3. ]\n",
            "  [4.  5.  6. ]]\n",
            "\n",
            " [[3.  2.  1. ]\n",
            "  [4.  5.  6. ]]] \n",
            "\n",
            "d [[0. 0. 0. 0.]\n",
            " [0. 0. 0. 0.]\n",
            " [0. 0. 0. 0.]] \n",
            "\n",
            "e [[[1 1 1 1]\n",
            "  [1 1 1 1]\n",
            "  [1 1 1 1]]\n",
            "\n",
            " [[1 1 1 1]\n",
            "  [1 1 1 1]\n",
            "  [1 1 1 1]]] \n",
            "\n",
            "f [10 15 20] \n",
            "\n",
            "g [0.   0.25 0.5  0.75 1.   1.25 1.5  1.75 2.  ] \n",
            "\n",
            "h [[7 7]\n",
            " [7 7]] \n",
            "\n",
            "i [[1. 0.]\n",
            " [0. 1.]] \n",
            "\n",
            "j [[0.96934343 0.62986747]\n",
            " [0.19670802 0.43431563]] \n",
            "\n",
            "k [[1.39069238e-309 1.39069238e-309]\n",
            " [1.39069238e-309 1.39069238e-309]\n",
            " [1.39069238e-309 1.39069238e-309]] \n",
            "\n"
          ]
        }
      ]
    },
    {
      "cell_type": "code",
      "source": [
        "l = a - b #Subtraction\n",
        "np.subtract(a,b) #Subtraction\n",
        "\n",
        "m = b + a #Addition \n",
        "np.add(b,a) #Addition \n",
        "\n",
        "a/b #Division \n",
        "np.divide(a,b) #Division \n",
        "\n",
        "a * b #Multiplication \n",
        "np.multiply(a,b) #Multiplication \n",
        "\n",
        "np.exp(b) #Exponentiation\n",
        "np.sqrt(b) #Square root\n",
        "np.sin(a)  #Print sines of an array\n",
        "np.cos(b) #Elementwise cosine\n",
        "np.log(a)#Elementwise natural logarithm"
      ],
      "metadata": {
        "colab": {
          "base_uri": "https://localhost:8080/"
        },
        "id": "Bhg1wILZuh_d",
        "outputId": "35964437-8230-4b51-c9e3-dd418491fdce"
      },
      "execution_count": 24,
      "outputs": [
        {
          "output_type": "execute_result",
          "data": {
            "text/plain": [
              "array([0.        , 0.69314718, 1.09861229])"
            ]
          },
          "metadata": {},
          "execution_count": 24
        }
      ]
    },
    {
      "cell_type": "markdown",
      "source": [
        "# Pandas"
      ],
      "metadata": {
        "id": "dPRt92Yy8cl_"
      }
    },
    {
      "cell_type": "markdown",
      "source": [
        "## Introduction\n"
      ],
      "metadata": {
        "id": "Z9rMlux08g_2"
      }
    },
    {
      "cell_type": "markdown",
      "source": [
        "Pandas is most notably known as a library to create *DataFrames*, which are 2-dimensional (row, column) tabular data. You can think of DataFrames a lot like Excel Spreadsheets, where for each row and column you have a singular cell that may contain data.\n",
        "\n",
        "DataFrames are not unlike spreadsheets, however they have their own ways in defining, placing, analyzing, and modifying data. \n",
        "\n",
        "To get started, we need to import Pandas. I use the common `pd` alias to reduce the amount of characters I have to type during coding later."
      ],
      "metadata": {
        "id": "25EX1vEc8rki"
      }
    },
    {
      "cell_type": "code",
      "source": [
        "import pandas as pd"
      ],
      "metadata": {
        "id": "8gaQCoSZ9gzV"
      },
      "execution_count": null,
      "outputs": []
    },
    {
      "cell_type": "markdown",
      "source": [
        "## Defining a DataFrame"
      ],
      "metadata": {
        "id": "C2vehBSQ9HoX"
      }
    },
    {
      "cell_type": "markdown",
      "source": [
        "There are numerous ways to define a DataFrame. Below are some you may be interested in using."
      ],
      "metadata": {
        "id": "Eb3N__IE9QCE"
      }
    },
    {
      "cell_type": "markdown",
      "source": [
        "### Creating your own DataFrames"
      ],
      "metadata": {
        "id": "jcTbgODq98pA"
      }
    },
    {
      "cell_type": "code",
      "source": [
        "d = {'col1': [1, 2], 'col2': [3, 4]}\n",
        "df = pd.DataFrame(data=d)\n",
        "display(df)"
      ],
      "metadata": {
        "colab": {
          "base_uri": "https://localhost:8080/",
          "height": 112
        },
        "id": "Vq_YfkQF8d_X",
        "outputId": "85b3b8ea-167b-408b-ffd7-5709e447a838"
      },
      "execution_count": null,
      "outputs": [
        {
          "output_type": "display_data",
          "data": {
            "text/plain": [
              "   col1  col2\n",
              "0     1     3\n",
              "1     2     4"
            ],
            "text/html": [
              "\n",
              "  <div id=\"df-7dcbe4dc-8159-4e4f-889c-aa5d3d255a5e\">\n",
              "    <div class=\"colab-df-container\">\n",
              "      <div>\n",
              "<style scoped>\n",
              "    .dataframe tbody tr th:only-of-type {\n",
              "        vertical-align: middle;\n",
              "    }\n",
              "\n",
              "    .dataframe tbody tr th {\n",
              "        vertical-align: top;\n",
              "    }\n",
              "\n",
              "    .dataframe thead th {\n",
              "        text-align: right;\n",
              "    }\n",
              "</style>\n",
              "<table border=\"1\" class=\"dataframe\">\n",
              "  <thead>\n",
              "    <tr style=\"text-align: right;\">\n",
              "      <th></th>\n",
              "      <th>col1</th>\n",
              "      <th>col2</th>\n",
              "    </tr>\n",
              "  </thead>\n",
              "  <tbody>\n",
              "    <tr>\n",
              "      <th>0</th>\n",
              "      <td>1</td>\n",
              "      <td>3</td>\n",
              "    </tr>\n",
              "    <tr>\n",
              "      <th>1</th>\n",
              "      <td>2</td>\n",
              "      <td>4</td>\n",
              "    </tr>\n",
              "  </tbody>\n",
              "</table>\n",
              "</div>\n",
              "      <button class=\"colab-df-convert\" onclick=\"convertToInteractive('df-7dcbe4dc-8159-4e4f-889c-aa5d3d255a5e')\"\n",
              "              title=\"Convert this dataframe to an interactive table.\"\n",
              "              style=\"display:none;\">\n",
              "        \n",
              "  <svg xmlns=\"http://www.w3.org/2000/svg\" height=\"24px\"viewBox=\"0 0 24 24\"\n",
              "       width=\"24px\">\n",
              "    <path d=\"M0 0h24v24H0V0z\" fill=\"none\"/>\n",
              "    <path d=\"M18.56 5.44l.94 2.06.94-2.06 2.06-.94-2.06-.94-.94-2.06-.94 2.06-2.06.94zm-11 1L8.5 8.5l.94-2.06 2.06-.94-2.06-.94L8.5 2.5l-.94 2.06-2.06.94zm10 10l.94 2.06.94-2.06 2.06-.94-2.06-.94-.94-2.06-.94 2.06-2.06.94z\"/><path d=\"M17.41 7.96l-1.37-1.37c-.4-.4-.92-.59-1.43-.59-.52 0-1.04.2-1.43.59L10.3 9.45l-7.72 7.72c-.78.78-.78 2.05 0 2.83L4 21.41c.39.39.9.59 1.41.59.51 0 1.02-.2 1.41-.59l7.78-7.78 2.81-2.81c.8-.78.8-2.07 0-2.86zM5.41 20L4 18.59l7.72-7.72 1.47 1.35L5.41 20z\"/>\n",
              "  </svg>\n",
              "      </button>\n",
              "      \n",
              "  <style>\n",
              "    .colab-df-container {\n",
              "      display:flex;\n",
              "      flex-wrap:wrap;\n",
              "      gap: 12px;\n",
              "    }\n",
              "\n",
              "    .colab-df-convert {\n",
              "      background-color: #E8F0FE;\n",
              "      border: none;\n",
              "      border-radius: 50%;\n",
              "      cursor: pointer;\n",
              "      display: none;\n",
              "      fill: #1967D2;\n",
              "      height: 32px;\n",
              "      padding: 0 0 0 0;\n",
              "      width: 32px;\n",
              "    }\n",
              "\n",
              "    .colab-df-convert:hover {\n",
              "      background-color: #E2EBFA;\n",
              "      box-shadow: 0px 1px 2px rgba(60, 64, 67, 0.3), 0px 1px 3px 1px rgba(60, 64, 67, 0.15);\n",
              "      fill: #174EA6;\n",
              "    }\n",
              "\n",
              "    [theme=dark] .colab-df-convert {\n",
              "      background-color: #3B4455;\n",
              "      fill: #D2E3FC;\n",
              "    }\n",
              "\n",
              "    [theme=dark] .colab-df-convert:hover {\n",
              "      background-color: #434B5C;\n",
              "      box-shadow: 0px 1px 3px 1px rgba(0, 0, 0, 0.15);\n",
              "      filter: drop-shadow(0px 1px 2px rgba(0, 0, 0, 0.3));\n",
              "      fill: #FFFFFF;\n",
              "    }\n",
              "  </style>\n",
              "\n",
              "      <script>\n",
              "        const buttonEl =\n",
              "          document.querySelector('#df-7dcbe4dc-8159-4e4f-889c-aa5d3d255a5e button.colab-df-convert');\n",
              "        buttonEl.style.display =\n",
              "          google.colab.kernel.accessAllowed ? 'block' : 'none';\n",
              "\n",
              "        async function convertToInteractive(key) {\n",
              "          const element = document.querySelector('#df-7dcbe4dc-8159-4e4f-889c-aa5d3d255a5e');\n",
              "          const dataTable =\n",
              "            await google.colab.kernel.invokeFunction('convertToInteractive',\n",
              "                                                     [key], {});\n",
              "          if (!dataTable) return;\n",
              "\n",
              "          const docLinkHtml = 'Like what you see? Visit the ' +\n",
              "            '<a target=\"_blank\" href=https://colab.research.google.com/notebooks/data_table.ipynb>data table notebook</a>'\n",
              "            + ' to learn more about interactive tables.';\n",
              "          element.innerHTML = '';\n",
              "          dataTable['output_type'] = 'display_data';\n",
              "          await google.colab.output.renderOutput(dataTable, element);\n",
              "          const docLink = document.createElement('div');\n",
              "          docLink.innerHTML = docLinkHtml;\n",
              "          element.appendChild(docLink);\n",
              "        }\n",
              "      </script>\n",
              "    </div>\n",
              "  </div>\n",
              "  "
            ]
          },
          "metadata": {}
        }
      ]
    },
    {
      "cell_type": "code",
      "source": [
        "rows = []\n",
        "for i in range(2):\n",
        "  rows.append({\"col1\": i, \"col2\": i * 2})\n",
        "\n",
        "df = pd.DataFrame.from_dict(rows)\n",
        "display(df)"
      ],
      "metadata": {
        "colab": {
          "base_uri": "https://localhost:8080/",
          "height": 112
        },
        "id": "EGMUBW4_-kjj",
        "outputId": "70afce08-46ba-44db-adc3-7c2d9dc142c5"
      },
      "execution_count": null,
      "outputs": [
        {
          "output_type": "display_data",
          "data": {
            "text/plain": [
              "   col1  col2\n",
              "0     0     0\n",
              "1     1     2"
            ],
            "text/html": [
              "\n",
              "  <div id=\"df-5c8e6efe-09d9-42d9-80fb-75a610c8e45f\">\n",
              "    <div class=\"colab-df-container\">\n",
              "      <div>\n",
              "<style scoped>\n",
              "    .dataframe tbody tr th:only-of-type {\n",
              "        vertical-align: middle;\n",
              "    }\n",
              "\n",
              "    .dataframe tbody tr th {\n",
              "        vertical-align: top;\n",
              "    }\n",
              "\n",
              "    .dataframe thead th {\n",
              "        text-align: right;\n",
              "    }\n",
              "</style>\n",
              "<table border=\"1\" class=\"dataframe\">\n",
              "  <thead>\n",
              "    <tr style=\"text-align: right;\">\n",
              "      <th></th>\n",
              "      <th>col1</th>\n",
              "      <th>col2</th>\n",
              "    </tr>\n",
              "  </thead>\n",
              "  <tbody>\n",
              "    <tr>\n",
              "      <th>0</th>\n",
              "      <td>0</td>\n",
              "      <td>0</td>\n",
              "    </tr>\n",
              "    <tr>\n",
              "      <th>1</th>\n",
              "      <td>1</td>\n",
              "      <td>2</td>\n",
              "    </tr>\n",
              "  </tbody>\n",
              "</table>\n",
              "</div>\n",
              "      <button class=\"colab-df-convert\" onclick=\"convertToInteractive('df-5c8e6efe-09d9-42d9-80fb-75a610c8e45f')\"\n",
              "              title=\"Convert this dataframe to an interactive table.\"\n",
              "              style=\"display:none;\">\n",
              "        \n",
              "  <svg xmlns=\"http://www.w3.org/2000/svg\" height=\"24px\"viewBox=\"0 0 24 24\"\n",
              "       width=\"24px\">\n",
              "    <path d=\"M0 0h24v24H0V0z\" fill=\"none\"/>\n",
              "    <path d=\"M18.56 5.44l.94 2.06.94-2.06 2.06-.94-2.06-.94-.94-2.06-.94 2.06-2.06.94zm-11 1L8.5 8.5l.94-2.06 2.06-.94-2.06-.94L8.5 2.5l-.94 2.06-2.06.94zm10 10l.94 2.06.94-2.06 2.06-.94-2.06-.94-.94-2.06-.94 2.06-2.06.94z\"/><path d=\"M17.41 7.96l-1.37-1.37c-.4-.4-.92-.59-1.43-.59-.52 0-1.04.2-1.43.59L10.3 9.45l-7.72 7.72c-.78.78-.78 2.05 0 2.83L4 21.41c.39.39.9.59 1.41.59.51 0 1.02-.2 1.41-.59l7.78-7.78 2.81-2.81c.8-.78.8-2.07 0-2.86zM5.41 20L4 18.59l7.72-7.72 1.47 1.35L5.41 20z\"/>\n",
              "  </svg>\n",
              "      </button>\n",
              "      \n",
              "  <style>\n",
              "    .colab-df-container {\n",
              "      display:flex;\n",
              "      flex-wrap:wrap;\n",
              "      gap: 12px;\n",
              "    }\n",
              "\n",
              "    .colab-df-convert {\n",
              "      background-color: #E8F0FE;\n",
              "      border: none;\n",
              "      border-radius: 50%;\n",
              "      cursor: pointer;\n",
              "      display: none;\n",
              "      fill: #1967D2;\n",
              "      height: 32px;\n",
              "      padding: 0 0 0 0;\n",
              "      width: 32px;\n",
              "    }\n",
              "\n",
              "    .colab-df-convert:hover {\n",
              "      background-color: #E2EBFA;\n",
              "      box-shadow: 0px 1px 2px rgba(60, 64, 67, 0.3), 0px 1px 3px 1px rgba(60, 64, 67, 0.15);\n",
              "      fill: #174EA6;\n",
              "    }\n",
              "\n",
              "    [theme=dark] .colab-df-convert {\n",
              "      background-color: #3B4455;\n",
              "      fill: #D2E3FC;\n",
              "    }\n",
              "\n",
              "    [theme=dark] .colab-df-convert:hover {\n",
              "      background-color: #434B5C;\n",
              "      box-shadow: 0px 1px 3px 1px rgba(0, 0, 0, 0.15);\n",
              "      filter: drop-shadow(0px 1px 2px rgba(0, 0, 0, 0.3));\n",
              "      fill: #FFFFFF;\n",
              "    }\n",
              "  </style>\n",
              "\n",
              "      <script>\n",
              "        const buttonEl =\n",
              "          document.querySelector('#df-5c8e6efe-09d9-42d9-80fb-75a610c8e45f button.colab-df-convert');\n",
              "        buttonEl.style.display =\n",
              "          google.colab.kernel.accessAllowed ? 'block' : 'none';\n",
              "\n",
              "        async function convertToInteractive(key) {\n",
              "          const element = document.querySelector('#df-5c8e6efe-09d9-42d9-80fb-75a610c8e45f');\n",
              "          const dataTable =\n",
              "            await google.colab.kernel.invokeFunction('convertToInteractive',\n",
              "                                                     [key], {});\n",
              "          if (!dataTable) return;\n",
              "\n",
              "          const docLinkHtml = 'Like what you see? Visit the ' +\n",
              "            '<a target=\"_blank\" href=https://colab.research.google.com/notebooks/data_table.ipynb>data table notebook</a>'\n",
              "            + ' to learn more about interactive tables.';\n",
              "          element.innerHTML = '';\n",
              "          dataTable['output_type'] = 'display_data';\n",
              "          await google.colab.output.renderOutput(dataTable, element);\n",
              "          const docLink = document.createElement('div');\n",
              "          docLink.innerHTML = docLinkHtml;\n",
              "          element.appendChild(docLink);\n",
              "        }\n",
              "      </script>\n",
              "    </div>\n",
              "  </div>\n",
              "  "
            ]
          },
          "metadata": {}
        }
      ]
    },
    {
      "cell_type": "markdown",
      "source": [
        "### Loading a DataFrame through a file"
      ],
      "metadata": {
        "id": "XLoLNAz3958-"
      }
    },
    {
      "cell_type": "code",
      "source": [
        "df = pd.read_excel(\"example.xlsx\")\n",
        "display(df)"
      ],
      "metadata": {
        "colab": {
          "base_uri": "https://localhost:8080/",
          "height": 112
        },
        "id": "llZs7Jvy9tp3",
        "outputId": "348c4bc8-4b41-4f17-df0e-aefc2141b6bf"
      },
      "execution_count": null,
      "outputs": [
        {
          "output_type": "display_data",
          "data": {
            "text/plain": [
              "   col1  col2\n",
              "0     1     3\n",
              "1     2     4"
            ],
            "text/html": [
              "\n",
              "  <div id=\"df-904c8243-b562-4705-81c7-b78e33e1a6ff\">\n",
              "    <div class=\"colab-df-container\">\n",
              "      <div>\n",
              "<style scoped>\n",
              "    .dataframe tbody tr th:only-of-type {\n",
              "        vertical-align: middle;\n",
              "    }\n",
              "\n",
              "    .dataframe tbody tr th {\n",
              "        vertical-align: top;\n",
              "    }\n",
              "\n",
              "    .dataframe thead th {\n",
              "        text-align: right;\n",
              "    }\n",
              "</style>\n",
              "<table border=\"1\" class=\"dataframe\">\n",
              "  <thead>\n",
              "    <tr style=\"text-align: right;\">\n",
              "      <th></th>\n",
              "      <th>col1</th>\n",
              "      <th>col2</th>\n",
              "    </tr>\n",
              "  </thead>\n",
              "  <tbody>\n",
              "    <tr>\n",
              "      <th>0</th>\n",
              "      <td>1</td>\n",
              "      <td>3</td>\n",
              "    </tr>\n",
              "    <tr>\n",
              "      <th>1</th>\n",
              "      <td>2</td>\n",
              "      <td>4</td>\n",
              "    </tr>\n",
              "  </tbody>\n",
              "</table>\n",
              "</div>\n",
              "      <button class=\"colab-df-convert\" onclick=\"convertToInteractive('df-904c8243-b562-4705-81c7-b78e33e1a6ff')\"\n",
              "              title=\"Convert this dataframe to an interactive table.\"\n",
              "              style=\"display:none;\">\n",
              "        \n",
              "  <svg xmlns=\"http://www.w3.org/2000/svg\" height=\"24px\"viewBox=\"0 0 24 24\"\n",
              "       width=\"24px\">\n",
              "    <path d=\"M0 0h24v24H0V0z\" fill=\"none\"/>\n",
              "    <path d=\"M18.56 5.44l.94 2.06.94-2.06 2.06-.94-2.06-.94-.94-2.06-.94 2.06-2.06.94zm-11 1L8.5 8.5l.94-2.06 2.06-.94-2.06-.94L8.5 2.5l-.94 2.06-2.06.94zm10 10l.94 2.06.94-2.06 2.06-.94-2.06-.94-.94-2.06-.94 2.06-2.06.94z\"/><path d=\"M17.41 7.96l-1.37-1.37c-.4-.4-.92-.59-1.43-.59-.52 0-1.04.2-1.43.59L10.3 9.45l-7.72 7.72c-.78.78-.78 2.05 0 2.83L4 21.41c.39.39.9.59 1.41.59.51 0 1.02-.2 1.41-.59l7.78-7.78 2.81-2.81c.8-.78.8-2.07 0-2.86zM5.41 20L4 18.59l7.72-7.72 1.47 1.35L5.41 20z\"/>\n",
              "  </svg>\n",
              "      </button>\n",
              "      \n",
              "  <style>\n",
              "    .colab-df-container {\n",
              "      display:flex;\n",
              "      flex-wrap:wrap;\n",
              "      gap: 12px;\n",
              "    }\n",
              "\n",
              "    .colab-df-convert {\n",
              "      background-color: #E8F0FE;\n",
              "      border: none;\n",
              "      border-radius: 50%;\n",
              "      cursor: pointer;\n",
              "      display: none;\n",
              "      fill: #1967D2;\n",
              "      height: 32px;\n",
              "      padding: 0 0 0 0;\n",
              "      width: 32px;\n",
              "    }\n",
              "\n",
              "    .colab-df-convert:hover {\n",
              "      background-color: #E2EBFA;\n",
              "      box-shadow: 0px 1px 2px rgba(60, 64, 67, 0.3), 0px 1px 3px 1px rgba(60, 64, 67, 0.15);\n",
              "      fill: #174EA6;\n",
              "    }\n",
              "\n",
              "    [theme=dark] .colab-df-convert {\n",
              "      background-color: #3B4455;\n",
              "      fill: #D2E3FC;\n",
              "    }\n",
              "\n",
              "    [theme=dark] .colab-df-convert:hover {\n",
              "      background-color: #434B5C;\n",
              "      box-shadow: 0px 1px 3px 1px rgba(0, 0, 0, 0.15);\n",
              "      filter: drop-shadow(0px 1px 2px rgba(0, 0, 0, 0.3));\n",
              "      fill: #FFFFFF;\n",
              "    }\n",
              "  </style>\n",
              "\n",
              "      <script>\n",
              "        const buttonEl =\n",
              "          document.querySelector('#df-904c8243-b562-4705-81c7-b78e33e1a6ff button.colab-df-convert');\n",
              "        buttonEl.style.display =\n",
              "          google.colab.kernel.accessAllowed ? 'block' : 'none';\n",
              "\n",
              "        async function convertToInteractive(key) {\n",
              "          const element = document.querySelector('#df-904c8243-b562-4705-81c7-b78e33e1a6ff');\n",
              "          const dataTable =\n",
              "            await google.colab.kernel.invokeFunction('convertToInteractive',\n",
              "                                                     [key], {});\n",
              "          if (!dataTable) return;\n",
              "\n",
              "          const docLinkHtml = 'Like what you see? Visit the ' +\n",
              "            '<a target=\"_blank\" href=https://colab.research.google.com/notebooks/data_table.ipynb>data table notebook</a>'\n",
              "            + ' to learn more about interactive tables.';\n",
              "          element.innerHTML = '';\n",
              "          dataTable['output_type'] = 'display_data';\n",
              "          await google.colab.output.renderOutput(dataTable, element);\n",
              "          const docLink = document.createElement('div');\n",
              "          docLink.innerHTML = docLinkHtml;\n",
              "          element.appendChild(docLink);\n",
              "        }\n",
              "      </script>\n",
              "    </div>\n",
              "  </div>\n",
              "  "
            ]
          },
          "metadata": {}
        }
      ]
    },
    {
      "cell_type": "code",
      "source": [
        "df = pd.read_csv(\"example.csv\")\n",
        "display(df)"
      ],
      "metadata": {
        "colab": {
          "base_uri": "https://localhost:8080/",
          "height": 112
        },
        "id": "f6Yz3TYq-exl",
        "outputId": "eecfe3c8-b217-4c74-cfc4-1041bd36fc0a"
      },
      "execution_count": null,
      "outputs": [
        {
          "output_type": "display_data",
          "data": {
            "text/plain": [
              "   col1  col2\n",
              "0     1     3\n",
              "1     2     4"
            ],
            "text/html": [
              "\n",
              "  <div id=\"df-ba72dd82-eec5-4067-8e08-fdfd6ca9f3e3\">\n",
              "    <div class=\"colab-df-container\">\n",
              "      <div>\n",
              "<style scoped>\n",
              "    .dataframe tbody tr th:only-of-type {\n",
              "        vertical-align: middle;\n",
              "    }\n",
              "\n",
              "    .dataframe tbody tr th {\n",
              "        vertical-align: top;\n",
              "    }\n",
              "\n",
              "    .dataframe thead th {\n",
              "        text-align: right;\n",
              "    }\n",
              "</style>\n",
              "<table border=\"1\" class=\"dataframe\">\n",
              "  <thead>\n",
              "    <tr style=\"text-align: right;\">\n",
              "      <th></th>\n",
              "      <th>col1</th>\n",
              "      <th>col2</th>\n",
              "    </tr>\n",
              "  </thead>\n",
              "  <tbody>\n",
              "    <tr>\n",
              "      <th>0</th>\n",
              "      <td>1</td>\n",
              "      <td>3</td>\n",
              "    </tr>\n",
              "    <tr>\n",
              "      <th>1</th>\n",
              "      <td>2</td>\n",
              "      <td>4</td>\n",
              "    </tr>\n",
              "  </tbody>\n",
              "</table>\n",
              "</div>\n",
              "      <button class=\"colab-df-convert\" onclick=\"convertToInteractive('df-ba72dd82-eec5-4067-8e08-fdfd6ca9f3e3')\"\n",
              "              title=\"Convert this dataframe to an interactive table.\"\n",
              "              style=\"display:none;\">\n",
              "        \n",
              "  <svg xmlns=\"http://www.w3.org/2000/svg\" height=\"24px\"viewBox=\"0 0 24 24\"\n",
              "       width=\"24px\">\n",
              "    <path d=\"M0 0h24v24H0V0z\" fill=\"none\"/>\n",
              "    <path d=\"M18.56 5.44l.94 2.06.94-2.06 2.06-.94-2.06-.94-.94-2.06-.94 2.06-2.06.94zm-11 1L8.5 8.5l.94-2.06 2.06-.94-2.06-.94L8.5 2.5l-.94 2.06-2.06.94zm10 10l.94 2.06.94-2.06 2.06-.94-2.06-.94-.94-2.06-.94 2.06-2.06.94z\"/><path d=\"M17.41 7.96l-1.37-1.37c-.4-.4-.92-.59-1.43-.59-.52 0-1.04.2-1.43.59L10.3 9.45l-7.72 7.72c-.78.78-.78 2.05 0 2.83L4 21.41c.39.39.9.59 1.41.59.51 0 1.02-.2 1.41-.59l7.78-7.78 2.81-2.81c.8-.78.8-2.07 0-2.86zM5.41 20L4 18.59l7.72-7.72 1.47 1.35L5.41 20z\"/>\n",
              "  </svg>\n",
              "      </button>\n",
              "      \n",
              "  <style>\n",
              "    .colab-df-container {\n",
              "      display:flex;\n",
              "      flex-wrap:wrap;\n",
              "      gap: 12px;\n",
              "    }\n",
              "\n",
              "    .colab-df-convert {\n",
              "      background-color: #E8F0FE;\n",
              "      border: none;\n",
              "      border-radius: 50%;\n",
              "      cursor: pointer;\n",
              "      display: none;\n",
              "      fill: #1967D2;\n",
              "      height: 32px;\n",
              "      padding: 0 0 0 0;\n",
              "      width: 32px;\n",
              "    }\n",
              "\n",
              "    .colab-df-convert:hover {\n",
              "      background-color: #E2EBFA;\n",
              "      box-shadow: 0px 1px 2px rgba(60, 64, 67, 0.3), 0px 1px 3px 1px rgba(60, 64, 67, 0.15);\n",
              "      fill: #174EA6;\n",
              "    }\n",
              "\n",
              "    [theme=dark] .colab-df-convert {\n",
              "      background-color: #3B4455;\n",
              "      fill: #D2E3FC;\n",
              "    }\n",
              "\n",
              "    [theme=dark] .colab-df-convert:hover {\n",
              "      background-color: #434B5C;\n",
              "      box-shadow: 0px 1px 3px 1px rgba(0, 0, 0, 0.15);\n",
              "      filter: drop-shadow(0px 1px 2px rgba(0, 0, 0, 0.3));\n",
              "      fill: #FFFFFF;\n",
              "    }\n",
              "  </style>\n",
              "\n",
              "      <script>\n",
              "        const buttonEl =\n",
              "          document.querySelector('#df-ba72dd82-eec5-4067-8e08-fdfd6ca9f3e3 button.colab-df-convert');\n",
              "        buttonEl.style.display =\n",
              "          google.colab.kernel.accessAllowed ? 'block' : 'none';\n",
              "\n",
              "        async function convertToInteractive(key) {\n",
              "          const element = document.querySelector('#df-ba72dd82-eec5-4067-8e08-fdfd6ca9f3e3');\n",
              "          const dataTable =\n",
              "            await google.colab.kernel.invokeFunction('convertToInteractive',\n",
              "                                                     [key], {});\n",
              "          if (!dataTable) return;\n",
              "\n",
              "          const docLinkHtml = 'Like what you see? Visit the ' +\n",
              "            '<a target=\"_blank\" href=https://colab.research.google.com/notebooks/data_table.ipynb>data table notebook</a>'\n",
              "            + ' to learn more about interactive tables.';\n",
              "          element.innerHTML = '';\n",
              "          dataTable['output_type'] = 'display_data';\n",
              "          await google.colab.output.renderOutput(dataTable, element);\n",
              "          const docLink = document.createElement('div');\n",
              "          docLink.innerHTML = docLinkHtml;\n",
              "          element.appendChild(docLink);\n",
              "        }\n",
              "      </script>\n",
              "    </div>\n",
              "  </div>\n",
              "  "
            ]
          },
          "metadata": {}
        }
      ]
    },
    {
      "cell_type": "markdown",
      "source": [
        "## Manipulating Data"
      ],
      "metadata": {
        "id": "HrWajoEg_8UH"
      }
    },
    {
      "cell_type": "markdown",
      "source": [
        "Once you have a DataFrame defined with data, here are common ways that you can modify that data. Let's define a sample DataFrame that we can manipulate."
      ],
      "metadata": {
        "id": "PQmuJfqz_-tq"
      }
    },
    {
      "cell_type": "code",
      "source": [
        "summer_df = pd.read_excel(\"summer.xlsx\")\n",
        "display(summer_df)"
      ],
      "metadata": {
        "colab": {
          "base_uri": "https://localhost:8080/",
          "height": 677
        },
        "id": "sxb4tx3aGK7_",
        "outputId": "3e76aa9b-91b5-4838-e40e-afd70ee93ad2"
      },
      "execution_count": null,
      "outputs": [
        {
          "output_type": "display_data",
          "data": {
            "text/plain": [
              "            Role             Name Preferred Name  \\\n",
              "0         Mentor    Ahmed Mohamed          Shadi   \n",
              "1        Student     Amaya Caudel            NaN   \n",
              "2         Mentor       Amin Amiri            NaN   \n",
              "3        Student     Andres Angel         Andres   \n",
              "4        Student    Bansari Patel            NaN   \n",
              "5        Student  Collin Matthews            NaN   \n",
              "6   Mentor/Staff   Dakila Ledesma            Dax   \n",
              "7      Professor         Dalei Wu            NaN   \n",
              "8        Student       David Dias            NaN   \n",
              "9        Student        Freddy Su            NaN   \n",
              "10       Student      Jennifer Wu            NaN   \n",
              "11       Student     Kalon Camkal            NaN   \n",
              "12       Student      Megan Burns            NaN   \n",
              "13       Student     Ruhan Sahasi            NaN   \n",
              "14       Student       Rutvi Shah            NaN   \n",
              "15       Student        Sophia Su            NaN   \n",
              "16       Student     Stanley Wang            NaN   \n",
              "17       Student      Veer Sahasi            NaN   \n",
              "18        Mentor  Viji Kumarasamy            NaN   \n",
              "19     Professor         Yu Liang            NaN   \n",
              "\n",
              "                                               Email  \\\n",
              "0                                wff394@mocs.utc.edu   \n",
              "1                                acaudel@my.apsu.edu   \n",
              "2                                tvp372@mocs.utc.edu   \n",
              "3                               andres-angel@utc.edu   \n",
              "4                                bxy539@mocs.utc.edu   \n",
              "5                        collin.j.matthews@gmail.com   \n",
              "6   dakila-ledesma@utc.edu\\ndakila_ledesma@bcbst.com   \n",
              "7                                   dalei-wu@utc.edu   \n",
              "8                                DTH931@mocs.utc.edu   \n",
              "9                               freddysu06@gmail.com   \n",
              "10                                 wu1745@purdue.edu   \n",
              "11                            kalon.camkal@gmail.com   \n",
              "12                               Lrt935@mocs.utc.edu   \n",
              "13                            ruhansahasi@icloud.com   \n",
              "14                               nmg669@mocs.utc.edu   \n",
              "15                                  su288@purdue.edu   \n",
              "16                        stanleymaverwang@gmail.com   \n",
              "17                             veersahasi@icloud.com   \n",
              "18                               lry466@mocs.utc.edu   \n",
              "19                                  yu-liang@utc.edu   \n",
              "\n",
              "              GitHub Username                       Project  \n",
              "0                A7med3liamin                           NaN  \n",
              "1                   llamayall                       MusicAI  \n",
              "2   amiri-amin (ID:107808541)       LIDAR, MLPPC (Pavement)  \n",
              "3                 angeland001                         VIGOR  \n",
              "4                Bansari26700                Transportation  \n",
              "5                    collinjm                Transportation  \n",
              "6               dakilaledesma  VIGOR, MusicAI, TDoT GI, PTP  \n",
              "7                   utcwu2019                           NaN  \n",
              "8                  DavidDiasN                         LIDAR  \n",
              "9                  freddysu06                       MusicAI  \n",
              "10               JenniferWu25                        VIGOR   \n",
              "11                        NaN                       MusicAI  \n",
              "12                   ms-burns                         VIGOR  \n",
              "13                    rsahasi       Pavement Infrastructure  \n",
              "14                rutvishah30                       TDoT GI  \n",
              "15               SophiaSu1124                         VIGOR  \n",
              "16                  stanleymw                       MusicAI  \n",
              "17                    vsahasi           LIDAR Drone Project  \n",
              "18                        NaN                Transportation  \n",
              "19                yuliang-utc                           NaN  "
            ],
            "text/html": [
              "\n",
              "  <div id=\"df-914077a3-8a67-417e-abea-99484a05fb0e\">\n",
              "    <div class=\"colab-df-container\">\n",
              "      <div>\n",
              "<style scoped>\n",
              "    .dataframe tbody tr th:only-of-type {\n",
              "        vertical-align: middle;\n",
              "    }\n",
              "\n",
              "    .dataframe tbody tr th {\n",
              "        vertical-align: top;\n",
              "    }\n",
              "\n",
              "    .dataframe thead th {\n",
              "        text-align: right;\n",
              "    }\n",
              "</style>\n",
              "<table border=\"1\" class=\"dataframe\">\n",
              "  <thead>\n",
              "    <tr style=\"text-align: right;\">\n",
              "      <th></th>\n",
              "      <th>Role</th>\n",
              "      <th>Name</th>\n",
              "      <th>Preferred Name</th>\n",
              "      <th>Email</th>\n",
              "      <th>GitHub Username</th>\n",
              "      <th>Project</th>\n",
              "    </tr>\n",
              "  </thead>\n",
              "  <tbody>\n",
              "    <tr>\n",
              "      <th>0</th>\n",
              "      <td>Mentor</td>\n",
              "      <td>Ahmed Mohamed</td>\n",
              "      <td>Shadi</td>\n",
              "      <td>wff394@mocs.utc.edu</td>\n",
              "      <td>A7med3liamin</td>\n",
              "      <td>NaN</td>\n",
              "    </tr>\n",
              "    <tr>\n",
              "      <th>1</th>\n",
              "      <td>Student</td>\n",
              "      <td>Amaya Caudel</td>\n",
              "      <td>NaN</td>\n",
              "      <td>acaudel@my.apsu.edu</td>\n",
              "      <td>llamayall</td>\n",
              "      <td>MusicAI</td>\n",
              "    </tr>\n",
              "    <tr>\n",
              "      <th>2</th>\n",
              "      <td>Mentor</td>\n",
              "      <td>Amin Amiri</td>\n",
              "      <td>NaN</td>\n",
              "      <td>tvp372@mocs.utc.edu</td>\n",
              "      <td>amiri-amin (ID:107808541)</td>\n",
              "      <td>LIDAR, MLPPC (Pavement)</td>\n",
              "    </tr>\n",
              "    <tr>\n",
              "      <th>3</th>\n",
              "      <td>Student</td>\n",
              "      <td>Andres Angel</td>\n",
              "      <td>Andres</td>\n",
              "      <td>andres-angel@utc.edu</td>\n",
              "      <td>angeland001</td>\n",
              "      <td>VIGOR</td>\n",
              "    </tr>\n",
              "    <tr>\n",
              "      <th>4</th>\n",
              "      <td>Student</td>\n",
              "      <td>Bansari Patel</td>\n",
              "      <td>NaN</td>\n",
              "      <td>bxy539@mocs.utc.edu</td>\n",
              "      <td>Bansari26700</td>\n",
              "      <td>Transportation</td>\n",
              "    </tr>\n",
              "    <tr>\n",
              "      <th>5</th>\n",
              "      <td>Student</td>\n",
              "      <td>Collin Matthews</td>\n",
              "      <td>NaN</td>\n",
              "      <td>collin.j.matthews@gmail.com</td>\n",
              "      <td>collinjm</td>\n",
              "      <td>Transportation</td>\n",
              "    </tr>\n",
              "    <tr>\n",
              "      <th>6</th>\n",
              "      <td>Mentor/Staff</td>\n",
              "      <td>Dakila Ledesma</td>\n",
              "      <td>Dax</td>\n",
              "      <td>dakila-ledesma@utc.edu\\ndakila_ledesma@bcbst.com</td>\n",
              "      <td>dakilaledesma</td>\n",
              "      <td>VIGOR, MusicAI, TDoT GI, PTP</td>\n",
              "    </tr>\n",
              "    <tr>\n",
              "      <th>7</th>\n",
              "      <td>Professor</td>\n",
              "      <td>Dalei Wu</td>\n",
              "      <td>NaN</td>\n",
              "      <td>dalei-wu@utc.edu</td>\n",
              "      <td>utcwu2019</td>\n",
              "      <td>NaN</td>\n",
              "    </tr>\n",
              "    <tr>\n",
              "      <th>8</th>\n",
              "      <td>Student</td>\n",
              "      <td>David Dias</td>\n",
              "      <td>NaN</td>\n",
              "      <td>DTH931@mocs.utc.edu</td>\n",
              "      <td>DavidDiasN</td>\n",
              "      <td>LIDAR</td>\n",
              "    </tr>\n",
              "    <tr>\n",
              "      <th>9</th>\n",
              "      <td>Student</td>\n",
              "      <td>Freddy Su</td>\n",
              "      <td>NaN</td>\n",
              "      <td>freddysu06@gmail.com</td>\n",
              "      <td>freddysu06</td>\n",
              "      <td>MusicAI</td>\n",
              "    </tr>\n",
              "    <tr>\n",
              "      <th>10</th>\n",
              "      <td>Student</td>\n",
              "      <td>Jennifer Wu</td>\n",
              "      <td>NaN</td>\n",
              "      <td>wu1745@purdue.edu</td>\n",
              "      <td>JenniferWu25</td>\n",
              "      <td>VIGOR</td>\n",
              "    </tr>\n",
              "    <tr>\n",
              "      <th>11</th>\n",
              "      <td>Student</td>\n",
              "      <td>Kalon Camkal</td>\n",
              "      <td>NaN</td>\n",
              "      <td>kalon.camkal@gmail.com</td>\n",
              "      <td>NaN</td>\n",
              "      <td>MusicAI</td>\n",
              "    </tr>\n",
              "    <tr>\n",
              "      <th>12</th>\n",
              "      <td>Student</td>\n",
              "      <td>Megan Burns</td>\n",
              "      <td>NaN</td>\n",
              "      <td>Lrt935@mocs.utc.edu</td>\n",
              "      <td>ms-burns</td>\n",
              "      <td>VIGOR</td>\n",
              "    </tr>\n",
              "    <tr>\n",
              "      <th>13</th>\n",
              "      <td>Student</td>\n",
              "      <td>Ruhan Sahasi</td>\n",
              "      <td>NaN</td>\n",
              "      <td>ruhansahasi@icloud.com</td>\n",
              "      <td>rsahasi</td>\n",
              "      <td>Pavement Infrastructure</td>\n",
              "    </tr>\n",
              "    <tr>\n",
              "      <th>14</th>\n",
              "      <td>Student</td>\n",
              "      <td>Rutvi Shah</td>\n",
              "      <td>NaN</td>\n",
              "      <td>nmg669@mocs.utc.edu</td>\n",
              "      <td>rutvishah30</td>\n",
              "      <td>TDoT GI</td>\n",
              "    </tr>\n",
              "    <tr>\n",
              "      <th>15</th>\n",
              "      <td>Student</td>\n",
              "      <td>Sophia Su</td>\n",
              "      <td>NaN</td>\n",
              "      <td>su288@purdue.edu</td>\n",
              "      <td>SophiaSu1124</td>\n",
              "      <td>VIGOR</td>\n",
              "    </tr>\n",
              "    <tr>\n",
              "      <th>16</th>\n",
              "      <td>Student</td>\n",
              "      <td>Stanley Wang</td>\n",
              "      <td>NaN</td>\n",
              "      <td>stanleymaverwang@gmail.com</td>\n",
              "      <td>stanleymw</td>\n",
              "      <td>MusicAI</td>\n",
              "    </tr>\n",
              "    <tr>\n",
              "      <th>17</th>\n",
              "      <td>Student</td>\n",
              "      <td>Veer Sahasi</td>\n",
              "      <td>NaN</td>\n",
              "      <td>veersahasi@icloud.com</td>\n",
              "      <td>vsahasi</td>\n",
              "      <td>LIDAR Drone Project</td>\n",
              "    </tr>\n",
              "    <tr>\n",
              "      <th>18</th>\n",
              "      <td>Mentor</td>\n",
              "      <td>Viji Kumarasamy</td>\n",
              "      <td>NaN</td>\n",
              "      <td>lry466@mocs.utc.edu</td>\n",
              "      <td>NaN</td>\n",
              "      <td>Transportation</td>\n",
              "    </tr>\n",
              "    <tr>\n",
              "      <th>19</th>\n",
              "      <td>Professor</td>\n",
              "      <td>Yu Liang</td>\n",
              "      <td>NaN</td>\n",
              "      <td>yu-liang@utc.edu</td>\n",
              "      <td>yuliang-utc</td>\n",
              "      <td>NaN</td>\n",
              "    </tr>\n",
              "  </tbody>\n",
              "</table>\n",
              "</div>\n",
              "      <button class=\"colab-df-convert\" onclick=\"convertToInteractive('df-914077a3-8a67-417e-abea-99484a05fb0e')\"\n",
              "              title=\"Convert this dataframe to an interactive table.\"\n",
              "              style=\"display:none;\">\n",
              "        \n",
              "  <svg xmlns=\"http://www.w3.org/2000/svg\" height=\"24px\"viewBox=\"0 0 24 24\"\n",
              "       width=\"24px\">\n",
              "    <path d=\"M0 0h24v24H0V0z\" fill=\"none\"/>\n",
              "    <path d=\"M18.56 5.44l.94 2.06.94-2.06 2.06-.94-2.06-.94-.94-2.06-.94 2.06-2.06.94zm-11 1L8.5 8.5l.94-2.06 2.06-.94-2.06-.94L8.5 2.5l-.94 2.06-2.06.94zm10 10l.94 2.06.94-2.06 2.06-.94-2.06-.94-.94-2.06-.94 2.06-2.06.94z\"/><path d=\"M17.41 7.96l-1.37-1.37c-.4-.4-.92-.59-1.43-.59-.52 0-1.04.2-1.43.59L10.3 9.45l-7.72 7.72c-.78.78-.78 2.05 0 2.83L4 21.41c.39.39.9.59 1.41.59.51 0 1.02-.2 1.41-.59l7.78-7.78 2.81-2.81c.8-.78.8-2.07 0-2.86zM5.41 20L4 18.59l7.72-7.72 1.47 1.35L5.41 20z\"/>\n",
              "  </svg>\n",
              "      </button>\n",
              "      \n",
              "  <style>\n",
              "    .colab-df-container {\n",
              "      display:flex;\n",
              "      flex-wrap:wrap;\n",
              "      gap: 12px;\n",
              "    }\n",
              "\n",
              "    .colab-df-convert {\n",
              "      background-color: #E8F0FE;\n",
              "      border: none;\n",
              "      border-radius: 50%;\n",
              "      cursor: pointer;\n",
              "      display: none;\n",
              "      fill: #1967D2;\n",
              "      height: 32px;\n",
              "      padding: 0 0 0 0;\n",
              "      width: 32px;\n",
              "    }\n",
              "\n",
              "    .colab-df-convert:hover {\n",
              "      background-color: #E2EBFA;\n",
              "      box-shadow: 0px 1px 2px rgba(60, 64, 67, 0.3), 0px 1px 3px 1px rgba(60, 64, 67, 0.15);\n",
              "      fill: #174EA6;\n",
              "    }\n",
              "\n",
              "    [theme=dark] .colab-df-convert {\n",
              "      background-color: #3B4455;\n",
              "      fill: #D2E3FC;\n",
              "    }\n",
              "\n",
              "    [theme=dark] .colab-df-convert:hover {\n",
              "      background-color: #434B5C;\n",
              "      box-shadow: 0px 1px 3px 1px rgba(0, 0, 0, 0.15);\n",
              "      filter: drop-shadow(0px 1px 2px rgba(0, 0, 0, 0.3));\n",
              "      fill: #FFFFFF;\n",
              "    }\n",
              "  </style>\n",
              "\n",
              "      <script>\n",
              "        const buttonEl =\n",
              "          document.querySelector('#df-914077a3-8a67-417e-abea-99484a05fb0e button.colab-df-convert');\n",
              "        buttonEl.style.display =\n",
              "          google.colab.kernel.accessAllowed ? 'block' : 'none';\n",
              "\n",
              "        async function convertToInteractive(key) {\n",
              "          const element = document.querySelector('#df-914077a3-8a67-417e-abea-99484a05fb0e');\n",
              "          const dataTable =\n",
              "            await google.colab.kernel.invokeFunction('convertToInteractive',\n",
              "                                                     [key], {});\n",
              "          if (!dataTable) return;\n",
              "\n",
              "          const docLinkHtml = 'Like what you see? Visit the ' +\n",
              "            '<a target=\"_blank\" href=https://colab.research.google.com/notebooks/data_table.ipynb>data table notebook</a>'\n",
              "            + ' to learn more about interactive tables.';\n",
              "          element.innerHTML = '';\n",
              "          dataTable['output_type'] = 'display_data';\n",
              "          await google.colab.output.renderOutput(dataTable, element);\n",
              "          const docLink = document.createElement('div');\n",
              "          docLink.innerHTML = docLinkHtml;\n",
              "          element.appendChild(docLink);\n",
              "        }\n",
              "      </script>\n",
              "    </div>\n",
              "  </div>\n",
              "  "
            ]
          },
          "metadata": {}
        }
      ]
    },
    {
      "cell_type": "markdown",
      "source": [
        "### Adding a column"
      ],
      "metadata": {
        "id": "_vZGoVlfAydc"
      }
    },
    {
      "cell_type": "code",
      "source": [
        "# Generate a list of first names\n",
        "first_names = []\n",
        "for index, row in summer_df.iterrows():\n",
        "  first_names.append(row[\"Name\"].split(' ')[0])\n",
        "print(first_names)\n",
        "\n",
        "# Assign a \"First Name\" column using the list of first_names\n",
        "summer_df[\"First Name\"] = first_names\n",
        "display(summer_df)"
      ],
      "metadata": {
        "colab": {
          "base_uri": "https://localhost:8080/",
          "height": 694
        },
        "id": "BMOXfitr_-e_",
        "outputId": "f5c24290-f953-47be-aa9e-24676819df82"
      },
      "execution_count": null,
      "outputs": [
        {
          "output_type": "stream",
          "name": "stdout",
          "text": [
            "['Ahmed', 'Amaya', 'Amin', 'Andres', 'Bansari', 'Collin', 'Dakila', 'Dalei', 'David', 'Freddy', 'Jennifer', 'Kalon', 'Megan', 'Ruhan', 'Rutvi', 'Sophia', 'Stanley', 'Veer', 'Viji', 'Yu']\n"
          ]
        },
        {
          "output_type": "display_data",
          "data": {
            "text/plain": [
              "            Role             Name Preferred Name  \\\n",
              "0         Mentor    Ahmed Mohamed          Shadi   \n",
              "1        Student     Amaya Caudel            NaN   \n",
              "2         Mentor       Amin Amiri            NaN   \n",
              "3        Student     Andres Angel         Andres   \n",
              "4        Student    Bansari Patel            NaN   \n",
              "5        Student  Collin Matthews            NaN   \n",
              "6   Mentor/Staff   Dakila Ledesma            Dax   \n",
              "7      Professor         Dalei Wu            NaN   \n",
              "8        Student       David Dias            NaN   \n",
              "9        Student        Freddy Su            NaN   \n",
              "10       Student      Jennifer Wu            NaN   \n",
              "11       Student     Kalon Camkal            NaN   \n",
              "12       Student      Megan Burns            NaN   \n",
              "13       Student     Ruhan Sahasi            NaN   \n",
              "14       Student       Rutvi Shah            NaN   \n",
              "15       Student        Sophia Su            NaN   \n",
              "16       Student     Stanley Wang            NaN   \n",
              "17       Student      Veer Sahasi            NaN   \n",
              "18        Mentor  Viji Kumarasamy            NaN   \n",
              "19     Professor         Yu Liang            NaN   \n",
              "\n",
              "                                               Email  \\\n",
              "0                                wff394@mocs.utc.edu   \n",
              "1                                acaudel@my.apsu.edu   \n",
              "2                                tvp372@mocs.utc.edu   \n",
              "3                               andres-angel@utc.edu   \n",
              "4                                bxy539@mocs.utc.edu   \n",
              "5                        collin.j.matthews@gmail.com   \n",
              "6   dakila-ledesma@utc.edu\\ndakila_ledesma@bcbst.com   \n",
              "7                                   dalei-wu@utc.edu   \n",
              "8                                DTH931@mocs.utc.edu   \n",
              "9                               freddysu06@gmail.com   \n",
              "10                                 wu1745@purdue.edu   \n",
              "11                            kalon.camkal@gmail.com   \n",
              "12                               Lrt935@mocs.utc.edu   \n",
              "13                            ruhansahasi@icloud.com   \n",
              "14                               nmg669@mocs.utc.edu   \n",
              "15                                  su288@purdue.edu   \n",
              "16                        stanleymaverwang@gmail.com   \n",
              "17                             veersahasi@icloud.com   \n",
              "18                               lry466@mocs.utc.edu   \n",
              "19                                  yu-liang@utc.edu   \n",
              "\n",
              "              GitHub Username                       Project First Name  \n",
              "0                A7med3liamin                           NaN      Ahmed  \n",
              "1                   llamayall                       MusicAI      Amaya  \n",
              "2   amiri-amin (ID:107808541)       LIDAR, MLPPC (Pavement)       Amin  \n",
              "3                 angeland001                         VIGOR     Andres  \n",
              "4                Bansari26700                Transportation    Bansari  \n",
              "5                    collinjm                Transportation     Collin  \n",
              "6               dakilaledesma  VIGOR, MusicAI, TDoT GI, PTP     Dakila  \n",
              "7                   utcwu2019                           NaN      Dalei  \n",
              "8                  DavidDiasN                         LIDAR      David  \n",
              "9                  freddysu06                       MusicAI     Freddy  \n",
              "10               JenniferWu25                        VIGOR    Jennifer  \n",
              "11                        NaN                       MusicAI      Kalon  \n",
              "12                   ms-burns                         VIGOR      Megan  \n",
              "13                    rsahasi       Pavement Infrastructure      Ruhan  \n",
              "14                rutvishah30                       TDoT GI      Rutvi  \n",
              "15               SophiaSu1124                         VIGOR     Sophia  \n",
              "16                  stanleymw                       MusicAI    Stanley  \n",
              "17                    vsahasi           LIDAR Drone Project       Veer  \n",
              "18                        NaN                Transportation       Viji  \n",
              "19                yuliang-utc                           NaN         Yu  "
            ],
            "text/html": [
              "\n",
              "  <div id=\"df-408c9bb9-c1ed-430e-9994-c38952cc5767\">\n",
              "    <div class=\"colab-df-container\">\n",
              "      <div>\n",
              "<style scoped>\n",
              "    .dataframe tbody tr th:only-of-type {\n",
              "        vertical-align: middle;\n",
              "    }\n",
              "\n",
              "    .dataframe tbody tr th {\n",
              "        vertical-align: top;\n",
              "    }\n",
              "\n",
              "    .dataframe thead th {\n",
              "        text-align: right;\n",
              "    }\n",
              "</style>\n",
              "<table border=\"1\" class=\"dataframe\">\n",
              "  <thead>\n",
              "    <tr style=\"text-align: right;\">\n",
              "      <th></th>\n",
              "      <th>Role</th>\n",
              "      <th>Name</th>\n",
              "      <th>Preferred Name</th>\n",
              "      <th>Email</th>\n",
              "      <th>GitHub Username</th>\n",
              "      <th>Project</th>\n",
              "      <th>First Name</th>\n",
              "    </tr>\n",
              "  </thead>\n",
              "  <tbody>\n",
              "    <tr>\n",
              "      <th>0</th>\n",
              "      <td>Mentor</td>\n",
              "      <td>Ahmed Mohamed</td>\n",
              "      <td>Shadi</td>\n",
              "      <td>wff394@mocs.utc.edu</td>\n",
              "      <td>A7med3liamin</td>\n",
              "      <td>NaN</td>\n",
              "      <td>Ahmed</td>\n",
              "    </tr>\n",
              "    <tr>\n",
              "      <th>1</th>\n",
              "      <td>Student</td>\n",
              "      <td>Amaya Caudel</td>\n",
              "      <td>NaN</td>\n",
              "      <td>acaudel@my.apsu.edu</td>\n",
              "      <td>llamayall</td>\n",
              "      <td>MusicAI</td>\n",
              "      <td>Amaya</td>\n",
              "    </tr>\n",
              "    <tr>\n",
              "      <th>2</th>\n",
              "      <td>Mentor</td>\n",
              "      <td>Amin Amiri</td>\n",
              "      <td>NaN</td>\n",
              "      <td>tvp372@mocs.utc.edu</td>\n",
              "      <td>amiri-amin (ID:107808541)</td>\n",
              "      <td>LIDAR, MLPPC (Pavement)</td>\n",
              "      <td>Amin</td>\n",
              "    </tr>\n",
              "    <tr>\n",
              "      <th>3</th>\n",
              "      <td>Student</td>\n",
              "      <td>Andres Angel</td>\n",
              "      <td>Andres</td>\n",
              "      <td>andres-angel@utc.edu</td>\n",
              "      <td>angeland001</td>\n",
              "      <td>VIGOR</td>\n",
              "      <td>Andres</td>\n",
              "    </tr>\n",
              "    <tr>\n",
              "      <th>4</th>\n",
              "      <td>Student</td>\n",
              "      <td>Bansari Patel</td>\n",
              "      <td>NaN</td>\n",
              "      <td>bxy539@mocs.utc.edu</td>\n",
              "      <td>Bansari26700</td>\n",
              "      <td>Transportation</td>\n",
              "      <td>Bansari</td>\n",
              "    </tr>\n",
              "    <tr>\n",
              "      <th>5</th>\n",
              "      <td>Student</td>\n",
              "      <td>Collin Matthews</td>\n",
              "      <td>NaN</td>\n",
              "      <td>collin.j.matthews@gmail.com</td>\n",
              "      <td>collinjm</td>\n",
              "      <td>Transportation</td>\n",
              "      <td>Collin</td>\n",
              "    </tr>\n",
              "    <tr>\n",
              "      <th>6</th>\n",
              "      <td>Mentor/Staff</td>\n",
              "      <td>Dakila Ledesma</td>\n",
              "      <td>Dax</td>\n",
              "      <td>dakila-ledesma@utc.edu\\ndakila_ledesma@bcbst.com</td>\n",
              "      <td>dakilaledesma</td>\n",
              "      <td>VIGOR, MusicAI, TDoT GI, PTP</td>\n",
              "      <td>Dakila</td>\n",
              "    </tr>\n",
              "    <tr>\n",
              "      <th>7</th>\n",
              "      <td>Professor</td>\n",
              "      <td>Dalei Wu</td>\n",
              "      <td>NaN</td>\n",
              "      <td>dalei-wu@utc.edu</td>\n",
              "      <td>utcwu2019</td>\n",
              "      <td>NaN</td>\n",
              "      <td>Dalei</td>\n",
              "    </tr>\n",
              "    <tr>\n",
              "      <th>8</th>\n",
              "      <td>Student</td>\n",
              "      <td>David Dias</td>\n",
              "      <td>NaN</td>\n",
              "      <td>DTH931@mocs.utc.edu</td>\n",
              "      <td>DavidDiasN</td>\n",
              "      <td>LIDAR</td>\n",
              "      <td>David</td>\n",
              "    </tr>\n",
              "    <tr>\n",
              "      <th>9</th>\n",
              "      <td>Student</td>\n",
              "      <td>Freddy Su</td>\n",
              "      <td>NaN</td>\n",
              "      <td>freddysu06@gmail.com</td>\n",
              "      <td>freddysu06</td>\n",
              "      <td>MusicAI</td>\n",
              "      <td>Freddy</td>\n",
              "    </tr>\n",
              "    <tr>\n",
              "      <th>10</th>\n",
              "      <td>Student</td>\n",
              "      <td>Jennifer Wu</td>\n",
              "      <td>NaN</td>\n",
              "      <td>wu1745@purdue.edu</td>\n",
              "      <td>JenniferWu25</td>\n",
              "      <td>VIGOR</td>\n",
              "      <td>Jennifer</td>\n",
              "    </tr>\n",
              "    <tr>\n",
              "      <th>11</th>\n",
              "      <td>Student</td>\n",
              "      <td>Kalon Camkal</td>\n",
              "      <td>NaN</td>\n",
              "      <td>kalon.camkal@gmail.com</td>\n",
              "      <td>NaN</td>\n",
              "      <td>MusicAI</td>\n",
              "      <td>Kalon</td>\n",
              "    </tr>\n",
              "    <tr>\n",
              "      <th>12</th>\n",
              "      <td>Student</td>\n",
              "      <td>Megan Burns</td>\n",
              "      <td>NaN</td>\n",
              "      <td>Lrt935@mocs.utc.edu</td>\n",
              "      <td>ms-burns</td>\n",
              "      <td>VIGOR</td>\n",
              "      <td>Megan</td>\n",
              "    </tr>\n",
              "    <tr>\n",
              "      <th>13</th>\n",
              "      <td>Student</td>\n",
              "      <td>Ruhan Sahasi</td>\n",
              "      <td>NaN</td>\n",
              "      <td>ruhansahasi@icloud.com</td>\n",
              "      <td>rsahasi</td>\n",
              "      <td>Pavement Infrastructure</td>\n",
              "      <td>Ruhan</td>\n",
              "    </tr>\n",
              "    <tr>\n",
              "      <th>14</th>\n",
              "      <td>Student</td>\n",
              "      <td>Rutvi Shah</td>\n",
              "      <td>NaN</td>\n",
              "      <td>nmg669@mocs.utc.edu</td>\n",
              "      <td>rutvishah30</td>\n",
              "      <td>TDoT GI</td>\n",
              "      <td>Rutvi</td>\n",
              "    </tr>\n",
              "    <tr>\n",
              "      <th>15</th>\n",
              "      <td>Student</td>\n",
              "      <td>Sophia Su</td>\n",
              "      <td>NaN</td>\n",
              "      <td>su288@purdue.edu</td>\n",
              "      <td>SophiaSu1124</td>\n",
              "      <td>VIGOR</td>\n",
              "      <td>Sophia</td>\n",
              "    </tr>\n",
              "    <tr>\n",
              "      <th>16</th>\n",
              "      <td>Student</td>\n",
              "      <td>Stanley Wang</td>\n",
              "      <td>NaN</td>\n",
              "      <td>stanleymaverwang@gmail.com</td>\n",
              "      <td>stanleymw</td>\n",
              "      <td>MusicAI</td>\n",
              "      <td>Stanley</td>\n",
              "    </tr>\n",
              "    <tr>\n",
              "      <th>17</th>\n",
              "      <td>Student</td>\n",
              "      <td>Veer Sahasi</td>\n",
              "      <td>NaN</td>\n",
              "      <td>veersahasi@icloud.com</td>\n",
              "      <td>vsahasi</td>\n",
              "      <td>LIDAR Drone Project</td>\n",
              "      <td>Veer</td>\n",
              "    </tr>\n",
              "    <tr>\n",
              "      <th>18</th>\n",
              "      <td>Mentor</td>\n",
              "      <td>Viji Kumarasamy</td>\n",
              "      <td>NaN</td>\n",
              "      <td>lry466@mocs.utc.edu</td>\n",
              "      <td>NaN</td>\n",
              "      <td>Transportation</td>\n",
              "      <td>Viji</td>\n",
              "    </tr>\n",
              "    <tr>\n",
              "      <th>19</th>\n",
              "      <td>Professor</td>\n",
              "      <td>Yu Liang</td>\n",
              "      <td>NaN</td>\n",
              "      <td>yu-liang@utc.edu</td>\n",
              "      <td>yuliang-utc</td>\n",
              "      <td>NaN</td>\n",
              "      <td>Yu</td>\n",
              "    </tr>\n",
              "  </tbody>\n",
              "</table>\n",
              "</div>\n",
              "      <button class=\"colab-df-convert\" onclick=\"convertToInteractive('df-408c9bb9-c1ed-430e-9994-c38952cc5767')\"\n",
              "              title=\"Convert this dataframe to an interactive table.\"\n",
              "              style=\"display:none;\">\n",
              "        \n",
              "  <svg xmlns=\"http://www.w3.org/2000/svg\" height=\"24px\"viewBox=\"0 0 24 24\"\n",
              "       width=\"24px\">\n",
              "    <path d=\"M0 0h24v24H0V0z\" fill=\"none\"/>\n",
              "    <path d=\"M18.56 5.44l.94 2.06.94-2.06 2.06-.94-2.06-.94-.94-2.06-.94 2.06-2.06.94zm-11 1L8.5 8.5l.94-2.06 2.06-.94-2.06-.94L8.5 2.5l-.94 2.06-2.06.94zm10 10l.94 2.06.94-2.06 2.06-.94-2.06-.94-.94-2.06-.94 2.06-2.06.94z\"/><path d=\"M17.41 7.96l-1.37-1.37c-.4-.4-.92-.59-1.43-.59-.52 0-1.04.2-1.43.59L10.3 9.45l-7.72 7.72c-.78.78-.78 2.05 0 2.83L4 21.41c.39.39.9.59 1.41.59.51 0 1.02-.2 1.41-.59l7.78-7.78 2.81-2.81c.8-.78.8-2.07 0-2.86zM5.41 20L4 18.59l7.72-7.72 1.47 1.35L5.41 20z\"/>\n",
              "  </svg>\n",
              "      </button>\n",
              "      \n",
              "  <style>\n",
              "    .colab-df-container {\n",
              "      display:flex;\n",
              "      flex-wrap:wrap;\n",
              "      gap: 12px;\n",
              "    }\n",
              "\n",
              "    .colab-df-convert {\n",
              "      background-color: #E8F0FE;\n",
              "      border: none;\n",
              "      border-radius: 50%;\n",
              "      cursor: pointer;\n",
              "      display: none;\n",
              "      fill: #1967D2;\n",
              "      height: 32px;\n",
              "      padding: 0 0 0 0;\n",
              "      width: 32px;\n",
              "    }\n",
              "\n",
              "    .colab-df-convert:hover {\n",
              "      background-color: #E2EBFA;\n",
              "      box-shadow: 0px 1px 2px rgba(60, 64, 67, 0.3), 0px 1px 3px 1px rgba(60, 64, 67, 0.15);\n",
              "      fill: #174EA6;\n",
              "    }\n",
              "\n",
              "    [theme=dark] .colab-df-convert {\n",
              "      background-color: #3B4455;\n",
              "      fill: #D2E3FC;\n",
              "    }\n",
              "\n",
              "    [theme=dark] .colab-df-convert:hover {\n",
              "      background-color: #434B5C;\n",
              "      box-shadow: 0px 1px 3px 1px rgba(0, 0, 0, 0.15);\n",
              "      filter: drop-shadow(0px 1px 2px rgba(0, 0, 0, 0.3));\n",
              "      fill: #FFFFFF;\n",
              "    }\n",
              "  </style>\n",
              "\n",
              "      <script>\n",
              "        const buttonEl =\n",
              "          document.querySelector('#df-408c9bb9-c1ed-430e-9994-c38952cc5767 button.colab-df-convert');\n",
              "        buttonEl.style.display =\n",
              "          google.colab.kernel.accessAllowed ? 'block' : 'none';\n",
              "\n",
              "        async function convertToInteractive(key) {\n",
              "          const element = document.querySelector('#df-408c9bb9-c1ed-430e-9994-c38952cc5767');\n",
              "          const dataTable =\n",
              "            await google.colab.kernel.invokeFunction('convertToInteractive',\n",
              "                                                     [key], {});\n",
              "          if (!dataTable) return;\n",
              "\n",
              "          const docLinkHtml = 'Like what you see? Visit the ' +\n",
              "            '<a target=\"_blank\" href=https://colab.research.google.com/notebooks/data_table.ipynb>data table notebook</a>'\n",
              "            + ' to learn more about interactive tables.';\n",
              "          element.innerHTML = '';\n",
              "          dataTable['output_type'] = 'display_data';\n",
              "          await google.colab.output.renderOutput(dataTable, element);\n",
              "          const docLink = document.createElement('div');\n",
              "          docLink.innerHTML = docLinkHtml;\n",
              "          element.appendChild(docLink);\n",
              "        }\n",
              "      </script>\n",
              "    </div>\n",
              "  </div>\n",
              "  "
            ]
          },
          "metadata": {}
        }
      ]
    },
    {
      "cell_type": "markdown",
      "source": [
        "### Filtering and changing data through a conditional"
      ],
      "metadata": {
        "id": "XkyAgBXIHfXZ"
      }
    },
    {
      "cell_type": "markdown",
      "source": [
        "Sometimes, it's important to filter data for viewing. For example, I may want to filter people who are working on VIGOR:"
      ],
      "metadata": {
        "id": "rRhqwq9YHq-2"
      }
    },
    {
      "cell_type": "code",
      "source": [
        "vigor_students_df = summer_df[summer_df[\"Project\"].astype(str).str.contains('VIGOR')]\n",
        "display(vigor_students_df)"
      ],
      "metadata": {
        "colab": {
          "base_uri": "https://localhost:8080/",
          "height": 206
        },
        "id": "eQGAWuw8Hm7V",
        "outputId": "245dd4b2-01ff-4635-d054-ad6d0113d36d"
      },
      "execution_count": null,
      "outputs": [
        {
          "output_type": "display_data",
          "data": {
            "text/plain": [
              "            Role            Name Preferred Name  \\\n",
              "3        Student    Andres Angel         Andres   \n",
              "6   Mentor/Staff  Dakila Ledesma            Dax   \n",
              "10       Student     Jennifer Wu            NaN   \n",
              "12       Student     Megan Burns            NaN   \n",
              "15       Student       Sophia Su            NaN   \n",
              "\n",
              "                                               Email GitHub Username  \\\n",
              "3                               andres-angel@utc.edu     angeland001   \n",
              "6   dakila-ledesma@utc.edu\\ndakila_ledesma@bcbst.com   dakilaledesma   \n",
              "10                                 wu1745@purdue.edu    JenniferWu25   \n",
              "12                               Lrt935@mocs.utc.edu        ms-burns   \n",
              "15                                  su288@purdue.edu    SophiaSu1124   \n",
              "\n",
              "                         Project First Name  \n",
              "3                          VIGOR     Andres  \n",
              "6   VIGOR, MusicAI, TDoT GI, PTP     Dakila  \n",
              "10                        VIGOR    Jennifer  \n",
              "12                         VIGOR      Megan  \n",
              "15                         VIGOR     Sophia  "
            ],
            "text/html": [
              "\n",
              "  <div id=\"df-f736f239-0674-49bb-b89f-d723ebf57a90\">\n",
              "    <div class=\"colab-df-container\">\n",
              "      <div>\n",
              "<style scoped>\n",
              "    .dataframe tbody tr th:only-of-type {\n",
              "        vertical-align: middle;\n",
              "    }\n",
              "\n",
              "    .dataframe tbody tr th {\n",
              "        vertical-align: top;\n",
              "    }\n",
              "\n",
              "    .dataframe thead th {\n",
              "        text-align: right;\n",
              "    }\n",
              "</style>\n",
              "<table border=\"1\" class=\"dataframe\">\n",
              "  <thead>\n",
              "    <tr style=\"text-align: right;\">\n",
              "      <th></th>\n",
              "      <th>Role</th>\n",
              "      <th>Name</th>\n",
              "      <th>Preferred Name</th>\n",
              "      <th>Email</th>\n",
              "      <th>GitHub Username</th>\n",
              "      <th>Project</th>\n",
              "      <th>First Name</th>\n",
              "    </tr>\n",
              "  </thead>\n",
              "  <tbody>\n",
              "    <tr>\n",
              "      <th>3</th>\n",
              "      <td>Student</td>\n",
              "      <td>Andres Angel</td>\n",
              "      <td>Andres</td>\n",
              "      <td>andres-angel@utc.edu</td>\n",
              "      <td>angeland001</td>\n",
              "      <td>VIGOR</td>\n",
              "      <td>Andres</td>\n",
              "    </tr>\n",
              "    <tr>\n",
              "      <th>6</th>\n",
              "      <td>Mentor/Staff</td>\n",
              "      <td>Dakila Ledesma</td>\n",
              "      <td>Dax</td>\n",
              "      <td>dakila-ledesma@utc.edu\\ndakila_ledesma@bcbst.com</td>\n",
              "      <td>dakilaledesma</td>\n",
              "      <td>VIGOR, MusicAI, TDoT GI, PTP</td>\n",
              "      <td>Dakila</td>\n",
              "    </tr>\n",
              "    <tr>\n",
              "      <th>10</th>\n",
              "      <td>Student</td>\n",
              "      <td>Jennifer Wu</td>\n",
              "      <td>NaN</td>\n",
              "      <td>wu1745@purdue.edu</td>\n",
              "      <td>JenniferWu25</td>\n",
              "      <td>VIGOR</td>\n",
              "      <td>Jennifer</td>\n",
              "    </tr>\n",
              "    <tr>\n",
              "      <th>12</th>\n",
              "      <td>Student</td>\n",
              "      <td>Megan Burns</td>\n",
              "      <td>NaN</td>\n",
              "      <td>Lrt935@mocs.utc.edu</td>\n",
              "      <td>ms-burns</td>\n",
              "      <td>VIGOR</td>\n",
              "      <td>Megan</td>\n",
              "    </tr>\n",
              "    <tr>\n",
              "      <th>15</th>\n",
              "      <td>Student</td>\n",
              "      <td>Sophia Su</td>\n",
              "      <td>NaN</td>\n",
              "      <td>su288@purdue.edu</td>\n",
              "      <td>SophiaSu1124</td>\n",
              "      <td>VIGOR</td>\n",
              "      <td>Sophia</td>\n",
              "    </tr>\n",
              "  </tbody>\n",
              "</table>\n",
              "</div>\n",
              "      <button class=\"colab-df-convert\" onclick=\"convertToInteractive('df-f736f239-0674-49bb-b89f-d723ebf57a90')\"\n",
              "              title=\"Convert this dataframe to an interactive table.\"\n",
              "              style=\"display:none;\">\n",
              "        \n",
              "  <svg xmlns=\"http://www.w3.org/2000/svg\" height=\"24px\"viewBox=\"0 0 24 24\"\n",
              "       width=\"24px\">\n",
              "    <path d=\"M0 0h24v24H0V0z\" fill=\"none\"/>\n",
              "    <path d=\"M18.56 5.44l.94 2.06.94-2.06 2.06-.94-2.06-.94-.94-2.06-.94 2.06-2.06.94zm-11 1L8.5 8.5l.94-2.06 2.06-.94-2.06-.94L8.5 2.5l-.94 2.06-2.06.94zm10 10l.94 2.06.94-2.06 2.06-.94-2.06-.94-.94-2.06-.94 2.06-2.06.94z\"/><path d=\"M17.41 7.96l-1.37-1.37c-.4-.4-.92-.59-1.43-.59-.52 0-1.04.2-1.43.59L10.3 9.45l-7.72 7.72c-.78.78-.78 2.05 0 2.83L4 21.41c.39.39.9.59 1.41.59.51 0 1.02-.2 1.41-.59l7.78-7.78 2.81-2.81c.8-.78.8-2.07 0-2.86zM5.41 20L4 18.59l7.72-7.72 1.47 1.35L5.41 20z\"/>\n",
              "  </svg>\n",
              "      </button>\n",
              "      \n",
              "  <style>\n",
              "    .colab-df-container {\n",
              "      display:flex;\n",
              "      flex-wrap:wrap;\n",
              "      gap: 12px;\n",
              "    }\n",
              "\n",
              "    .colab-df-convert {\n",
              "      background-color: #E8F0FE;\n",
              "      border: none;\n",
              "      border-radius: 50%;\n",
              "      cursor: pointer;\n",
              "      display: none;\n",
              "      fill: #1967D2;\n",
              "      height: 32px;\n",
              "      padding: 0 0 0 0;\n",
              "      width: 32px;\n",
              "    }\n",
              "\n",
              "    .colab-df-convert:hover {\n",
              "      background-color: #E2EBFA;\n",
              "      box-shadow: 0px 1px 2px rgba(60, 64, 67, 0.3), 0px 1px 3px 1px rgba(60, 64, 67, 0.15);\n",
              "      fill: #174EA6;\n",
              "    }\n",
              "\n",
              "    [theme=dark] .colab-df-convert {\n",
              "      background-color: #3B4455;\n",
              "      fill: #D2E3FC;\n",
              "    }\n",
              "\n",
              "    [theme=dark] .colab-df-convert:hover {\n",
              "      background-color: #434B5C;\n",
              "      box-shadow: 0px 1px 3px 1px rgba(0, 0, 0, 0.15);\n",
              "      filter: drop-shadow(0px 1px 2px rgba(0, 0, 0, 0.3));\n",
              "      fill: #FFFFFF;\n",
              "    }\n",
              "  </style>\n",
              "\n",
              "      <script>\n",
              "        const buttonEl =\n",
              "          document.querySelector('#df-f736f239-0674-49bb-b89f-d723ebf57a90 button.colab-df-convert');\n",
              "        buttonEl.style.display =\n",
              "          google.colab.kernel.accessAllowed ? 'block' : 'none';\n",
              "\n",
              "        async function convertToInteractive(key) {\n",
              "          const element = document.querySelector('#df-f736f239-0674-49bb-b89f-d723ebf57a90');\n",
              "          const dataTable =\n",
              "            await google.colab.kernel.invokeFunction('convertToInteractive',\n",
              "                                                     [key], {});\n",
              "          if (!dataTable) return;\n",
              "\n",
              "          const docLinkHtml = 'Like what you see? Visit the ' +\n",
              "            '<a target=\"_blank\" href=https://colab.research.google.com/notebooks/data_table.ipynb>data table notebook</a>'\n",
              "            + ' to learn more about interactive tables.';\n",
              "          element.innerHTML = '';\n",
              "          dataTable['output_type'] = 'display_data';\n",
              "          await google.colab.output.renderOutput(dataTable, element);\n",
              "          const docLink = document.createElement('div');\n",
              "          docLink.innerHTML = docLinkHtml;\n",
              "          element.appendChild(docLink);\n",
              "        }\n",
              "      </script>\n",
              "    </div>\n",
              "  </div>\n",
              "  "
            ]
          },
          "metadata": {}
        }
      ]
    },
    {
      "cell_type": "markdown",
      "source": [
        "## Common Functions"
      ],
      "metadata": {
        "id": "Q0O6eXVB_yLY"
      }
    },
    {
      "cell_type": "markdown",
      "source": [
        "### Sorting a DataFrame"
      ],
      "metadata": {
        "id": "lSOHoTwpI_X4"
      }
    },
    {
      "cell_type": "code",
      "source": [
        "summer_proj_df = summer_df.sort_values([\"Project\", \"Name\"])\n",
        "display(summer_proj_df)"
      ],
      "metadata": {
        "colab": {
          "base_uri": "https://localhost:8080/",
          "height": 677
        },
        "id": "vW4v2WInI8rO",
        "outputId": "dee72cd6-ebdd-4ce6-ffb9-fb5018155a77"
      },
      "execution_count": null,
      "outputs": [
        {
          "output_type": "display_data",
          "data": {
            "text/plain": [
              "            Role             Name Preferred Name  \\\n",
              "8        Student       David Dias            NaN   \n",
              "17       Student      Veer Sahasi            NaN   \n",
              "2         Mentor       Amin Amiri            NaN   \n",
              "1        Student     Amaya Caudel            NaN   \n",
              "9        Student        Freddy Su            NaN   \n",
              "11       Student     Kalon Camkal            NaN   \n",
              "16       Student     Stanley Wang            NaN   \n",
              "13       Student     Ruhan Sahasi            NaN   \n",
              "14       Student       Rutvi Shah            NaN   \n",
              "4        Student    Bansari Patel            NaN   \n",
              "5        Student  Collin Matthews            NaN   \n",
              "18        Mentor  Viji Kumarasamy            NaN   \n",
              "3        Student     Andres Angel         Andres   \n",
              "12       Student      Megan Burns            NaN   \n",
              "15       Student        Sophia Su            NaN   \n",
              "10       Student      Jennifer Wu            NaN   \n",
              "6   Mentor/Staff   Dakila Ledesma            Dax   \n",
              "0         Mentor    Ahmed Mohamed          Shadi   \n",
              "7      Professor         Dalei Wu            NaN   \n",
              "19     Professor         Yu Liang            NaN   \n",
              "\n",
              "                                               Email  \\\n",
              "8                                DTH931@mocs.utc.edu   \n",
              "17                             veersahasi@icloud.com   \n",
              "2                                tvp372@mocs.utc.edu   \n",
              "1                                acaudel@my.apsu.edu   \n",
              "9                               freddysu06@gmail.com   \n",
              "11                            kalon.camkal@gmail.com   \n",
              "16                        stanleymaverwang@gmail.com   \n",
              "13                            ruhansahasi@icloud.com   \n",
              "14                               nmg669@mocs.utc.edu   \n",
              "4                                bxy539@mocs.utc.edu   \n",
              "5                        collin.j.matthews@gmail.com   \n",
              "18                               lry466@mocs.utc.edu   \n",
              "3                               andres-angel@utc.edu   \n",
              "12                               Lrt935@mocs.utc.edu   \n",
              "15                                  su288@purdue.edu   \n",
              "10                                 wu1745@purdue.edu   \n",
              "6   dakila-ledesma@utc.edu\\ndakila_ledesma@bcbst.com   \n",
              "0                                wff394@mocs.utc.edu   \n",
              "7                                   dalei-wu@utc.edu   \n",
              "19                                  yu-liang@utc.edu   \n",
              "\n",
              "              GitHub Username                       Project First Name  \n",
              "8                  DavidDiasN                         LIDAR      David  \n",
              "17                    vsahasi           LIDAR Drone Project       Veer  \n",
              "2   amiri-amin (ID:107808541)       LIDAR, MLPPC (Pavement)       Amin  \n",
              "1                   llamayall                       MusicAI      Amaya  \n",
              "9                  freddysu06                       MusicAI     Freddy  \n",
              "11                        NaN                       MusicAI      Kalon  \n",
              "16                  stanleymw                       MusicAI    Stanley  \n",
              "13                    rsahasi       Pavement Infrastructure      Ruhan  \n",
              "14                rutvishah30                       TDoT GI      Rutvi  \n",
              "4                Bansari26700                Transportation    Bansari  \n",
              "5                    collinjm                Transportation     Collin  \n",
              "18                        NaN                Transportation       Viji  \n",
              "3                 angeland001                         VIGOR     Andres  \n",
              "12                   ms-burns                         VIGOR      Megan  \n",
              "15               SophiaSu1124                         VIGOR     Sophia  \n",
              "10               JenniferWu25                        VIGOR    Jennifer  \n",
              "6               dakilaledesma  VIGOR, MusicAI, TDoT GI, PTP     Dakila  \n",
              "0                A7med3liamin                           NaN      Ahmed  \n",
              "7                   utcwu2019                           NaN      Dalei  \n",
              "19                yuliang-utc                           NaN         Yu  "
            ],
            "text/html": [
              "\n",
              "  <div id=\"df-f83c224f-30f7-48e0-bc41-fb948cf62264\">\n",
              "    <div class=\"colab-df-container\">\n",
              "      <div>\n",
              "<style scoped>\n",
              "    .dataframe tbody tr th:only-of-type {\n",
              "        vertical-align: middle;\n",
              "    }\n",
              "\n",
              "    .dataframe tbody tr th {\n",
              "        vertical-align: top;\n",
              "    }\n",
              "\n",
              "    .dataframe thead th {\n",
              "        text-align: right;\n",
              "    }\n",
              "</style>\n",
              "<table border=\"1\" class=\"dataframe\">\n",
              "  <thead>\n",
              "    <tr style=\"text-align: right;\">\n",
              "      <th></th>\n",
              "      <th>Role</th>\n",
              "      <th>Name</th>\n",
              "      <th>Preferred Name</th>\n",
              "      <th>Email</th>\n",
              "      <th>GitHub Username</th>\n",
              "      <th>Project</th>\n",
              "      <th>First Name</th>\n",
              "    </tr>\n",
              "  </thead>\n",
              "  <tbody>\n",
              "    <tr>\n",
              "      <th>8</th>\n",
              "      <td>Student</td>\n",
              "      <td>David Dias</td>\n",
              "      <td>NaN</td>\n",
              "      <td>DTH931@mocs.utc.edu</td>\n",
              "      <td>DavidDiasN</td>\n",
              "      <td>LIDAR</td>\n",
              "      <td>David</td>\n",
              "    </tr>\n",
              "    <tr>\n",
              "      <th>17</th>\n",
              "      <td>Student</td>\n",
              "      <td>Veer Sahasi</td>\n",
              "      <td>NaN</td>\n",
              "      <td>veersahasi@icloud.com</td>\n",
              "      <td>vsahasi</td>\n",
              "      <td>LIDAR Drone Project</td>\n",
              "      <td>Veer</td>\n",
              "    </tr>\n",
              "    <tr>\n",
              "      <th>2</th>\n",
              "      <td>Mentor</td>\n",
              "      <td>Amin Amiri</td>\n",
              "      <td>NaN</td>\n",
              "      <td>tvp372@mocs.utc.edu</td>\n",
              "      <td>amiri-amin (ID:107808541)</td>\n",
              "      <td>LIDAR, MLPPC (Pavement)</td>\n",
              "      <td>Amin</td>\n",
              "    </tr>\n",
              "    <tr>\n",
              "      <th>1</th>\n",
              "      <td>Student</td>\n",
              "      <td>Amaya Caudel</td>\n",
              "      <td>NaN</td>\n",
              "      <td>acaudel@my.apsu.edu</td>\n",
              "      <td>llamayall</td>\n",
              "      <td>MusicAI</td>\n",
              "      <td>Amaya</td>\n",
              "    </tr>\n",
              "    <tr>\n",
              "      <th>9</th>\n",
              "      <td>Student</td>\n",
              "      <td>Freddy Su</td>\n",
              "      <td>NaN</td>\n",
              "      <td>freddysu06@gmail.com</td>\n",
              "      <td>freddysu06</td>\n",
              "      <td>MusicAI</td>\n",
              "      <td>Freddy</td>\n",
              "    </tr>\n",
              "    <tr>\n",
              "      <th>11</th>\n",
              "      <td>Student</td>\n",
              "      <td>Kalon Camkal</td>\n",
              "      <td>NaN</td>\n",
              "      <td>kalon.camkal@gmail.com</td>\n",
              "      <td>NaN</td>\n",
              "      <td>MusicAI</td>\n",
              "      <td>Kalon</td>\n",
              "    </tr>\n",
              "    <tr>\n",
              "      <th>16</th>\n",
              "      <td>Student</td>\n",
              "      <td>Stanley Wang</td>\n",
              "      <td>NaN</td>\n",
              "      <td>stanleymaverwang@gmail.com</td>\n",
              "      <td>stanleymw</td>\n",
              "      <td>MusicAI</td>\n",
              "      <td>Stanley</td>\n",
              "    </tr>\n",
              "    <tr>\n",
              "      <th>13</th>\n",
              "      <td>Student</td>\n",
              "      <td>Ruhan Sahasi</td>\n",
              "      <td>NaN</td>\n",
              "      <td>ruhansahasi@icloud.com</td>\n",
              "      <td>rsahasi</td>\n",
              "      <td>Pavement Infrastructure</td>\n",
              "      <td>Ruhan</td>\n",
              "    </tr>\n",
              "    <tr>\n",
              "      <th>14</th>\n",
              "      <td>Student</td>\n",
              "      <td>Rutvi Shah</td>\n",
              "      <td>NaN</td>\n",
              "      <td>nmg669@mocs.utc.edu</td>\n",
              "      <td>rutvishah30</td>\n",
              "      <td>TDoT GI</td>\n",
              "      <td>Rutvi</td>\n",
              "    </tr>\n",
              "    <tr>\n",
              "      <th>4</th>\n",
              "      <td>Student</td>\n",
              "      <td>Bansari Patel</td>\n",
              "      <td>NaN</td>\n",
              "      <td>bxy539@mocs.utc.edu</td>\n",
              "      <td>Bansari26700</td>\n",
              "      <td>Transportation</td>\n",
              "      <td>Bansari</td>\n",
              "    </tr>\n",
              "    <tr>\n",
              "      <th>5</th>\n",
              "      <td>Student</td>\n",
              "      <td>Collin Matthews</td>\n",
              "      <td>NaN</td>\n",
              "      <td>collin.j.matthews@gmail.com</td>\n",
              "      <td>collinjm</td>\n",
              "      <td>Transportation</td>\n",
              "      <td>Collin</td>\n",
              "    </tr>\n",
              "    <tr>\n",
              "      <th>18</th>\n",
              "      <td>Mentor</td>\n",
              "      <td>Viji Kumarasamy</td>\n",
              "      <td>NaN</td>\n",
              "      <td>lry466@mocs.utc.edu</td>\n",
              "      <td>NaN</td>\n",
              "      <td>Transportation</td>\n",
              "      <td>Viji</td>\n",
              "    </tr>\n",
              "    <tr>\n",
              "      <th>3</th>\n",
              "      <td>Student</td>\n",
              "      <td>Andres Angel</td>\n",
              "      <td>Andres</td>\n",
              "      <td>andres-angel@utc.edu</td>\n",
              "      <td>angeland001</td>\n",
              "      <td>VIGOR</td>\n",
              "      <td>Andres</td>\n",
              "    </tr>\n",
              "    <tr>\n",
              "      <th>12</th>\n",
              "      <td>Student</td>\n",
              "      <td>Megan Burns</td>\n",
              "      <td>NaN</td>\n",
              "      <td>Lrt935@mocs.utc.edu</td>\n",
              "      <td>ms-burns</td>\n",
              "      <td>VIGOR</td>\n",
              "      <td>Megan</td>\n",
              "    </tr>\n",
              "    <tr>\n",
              "      <th>15</th>\n",
              "      <td>Student</td>\n",
              "      <td>Sophia Su</td>\n",
              "      <td>NaN</td>\n",
              "      <td>su288@purdue.edu</td>\n",
              "      <td>SophiaSu1124</td>\n",
              "      <td>VIGOR</td>\n",
              "      <td>Sophia</td>\n",
              "    </tr>\n",
              "    <tr>\n",
              "      <th>10</th>\n",
              "      <td>Student</td>\n",
              "      <td>Jennifer Wu</td>\n",
              "      <td>NaN</td>\n",
              "      <td>wu1745@purdue.edu</td>\n",
              "      <td>JenniferWu25</td>\n",
              "      <td>VIGOR</td>\n",
              "      <td>Jennifer</td>\n",
              "    </tr>\n",
              "    <tr>\n",
              "      <th>6</th>\n",
              "      <td>Mentor/Staff</td>\n",
              "      <td>Dakila Ledesma</td>\n",
              "      <td>Dax</td>\n",
              "      <td>dakila-ledesma@utc.edu\\ndakila_ledesma@bcbst.com</td>\n",
              "      <td>dakilaledesma</td>\n",
              "      <td>VIGOR, MusicAI, TDoT GI, PTP</td>\n",
              "      <td>Dakila</td>\n",
              "    </tr>\n",
              "    <tr>\n",
              "      <th>0</th>\n",
              "      <td>Mentor</td>\n",
              "      <td>Ahmed Mohamed</td>\n",
              "      <td>Shadi</td>\n",
              "      <td>wff394@mocs.utc.edu</td>\n",
              "      <td>A7med3liamin</td>\n",
              "      <td>NaN</td>\n",
              "      <td>Ahmed</td>\n",
              "    </tr>\n",
              "    <tr>\n",
              "      <th>7</th>\n",
              "      <td>Professor</td>\n",
              "      <td>Dalei Wu</td>\n",
              "      <td>NaN</td>\n",
              "      <td>dalei-wu@utc.edu</td>\n",
              "      <td>utcwu2019</td>\n",
              "      <td>NaN</td>\n",
              "      <td>Dalei</td>\n",
              "    </tr>\n",
              "    <tr>\n",
              "      <th>19</th>\n",
              "      <td>Professor</td>\n",
              "      <td>Yu Liang</td>\n",
              "      <td>NaN</td>\n",
              "      <td>yu-liang@utc.edu</td>\n",
              "      <td>yuliang-utc</td>\n",
              "      <td>NaN</td>\n",
              "      <td>Yu</td>\n",
              "    </tr>\n",
              "  </tbody>\n",
              "</table>\n",
              "</div>\n",
              "      <button class=\"colab-df-convert\" onclick=\"convertToInteractive('df-f83c224f-30f7-48e0-bc41-fb948cf62264')\"\n",
              "              title=\"Convert this dataframe to an interactive table.\"\n",
              "              style=\"display:none;\">\n",
              "        \n",
              "  <svg xmlns=\"http://www.w3.org/2000/svg\" height=\"24px\"viewBox=\"0 0 24 24\"\n",
              "       width=\"24px\">\n",
              "    <path d=\"M0 0h24v24H0V0z\" fill=\"none\"/>\n",
              "    <path d=\"M18.56 5.44l.94 2.06.94-2.06 2.06-.94-2.06-.94-.94-2.06-.94 2.06-2.06.94zm-11 1L8.5 8.5l.94-2.06 2.06-.94-2.06-.94L8.5 2.5l-.94 2.06-2.06.94zm10 10l.94 2.06.94-2.06 2.06-.94-2.06-.94-.94-2.06-.94 2.06-2.06.94z\"/><path d=\"M17.41 7.96l-1.37-1.37c-.4-.4-.92-.59-1.43-.59-.52 0-1.04.2-1.43.59L10.3 9.45l-7.72 7.72c-.78.78-.78 2.05 0 2.83L4 21.41c.39.39.9.59 1.41.59.51 0 1.02-.2 1.41-.59l7.78-7.78 2.81-2.81c.8-.78.8-2.07 0-2.86zM5.41 20L4 18.59l7.72-7.72 1.47 1.35L5.41 20z\"/>\n",
              "  </svg>\n",
              "      </button>\n",
              "      \n",
              "  <style>\n",
              "    .colab-df-container {\n",
              "      display:flex;\n",
              "      flex-wrap:wrap;\n",
              "      gap: 12px;\n",
              "    }\n",
              "\n",
              "    .colab-df-convert {\n",
              "      background-color: #E8F0FE;\n",
              "      border: none;\n",
              "      border-radius: 50%;\n",
              "      cursor: pointer;\n",
              "      display: none;\n",
              "      fill: #1967D2;\n",
              "      height: 32px;\n",
              "      padding: 0 0 0 0;\n",
              "      width: 32px;\n",
              "    }\n",
              "\n",
              "    .colab-df-convert:hover {\n",
              "      background-color: #E2EBFA;\n",
              "      box-shadow: 0px 1px 2px rgba(60, 64, 67, 0.3), 0px 1px 3px 1px rgba(60, 64, 67, 0.15);\n",
              "      fill: #174EA6;\n",
              "    }\n",
              "\n",
              "    [theme=dark] .colab-df-convert {\n",
              "      background-color: #3B4455;\n",
              "      fill: #D2E3FC;\n",
              "    }\n",
              "\n",
              "    [theme=dark] .colab-df-convert:hover {\n",
              "      background-color: #434B5C;\n",
              "      box-shadow: 0px 1px 3px 1px rgba(0, 0, 0, 0.15);\n",
              "      filter: drop-shadow(0px 1px 2px rgba(0, 0, 0, 0.3));\n",
              "      fill: #FFFFFF;\n",
              "    }\n",
              "  </style>\n",
              "\n",
              "      <script>\n",
              "        const buttonEl =\n",
              "          document.querySelector('#df-f83c224f-30f7-48e0-bc41-fb948cf62264 button.colab-df-convert');\n",
              "        buttonEl.style.display =\n",
              "          google.colab.kernel.accessAllowed ? 'block' : 'none';\n",
              "\n",
              "        async function convertToInteractive(key) {\n",
              "          const element = document.querySelector('#df-f83c224f-30f7-48e0-bc41-fb948cf62264');\n",
              "          const dataTable =\n",
              "            await google.colab.kernel.invokeFunction('convertToInteractive',\n",
              "                                                     [key], {});\n",
              "          if (!dataTable) return;\n",
              "\n",
              "          const docLinkHtml = 'Like what you see? Visit the ' +\n",
              "            '<a target=\"_blank\" href=https://colab.research.google.com/notebooks/data_table.ipynb>data table notebook</a>'\n",
              "            + ' to learn more about interactive tables.';\n",
              "          element.innerHTML = '';\n",
              "          dataTable['output_type'] = 'display_data';\n",
              "          await google.colab.output.renderOutput(dataTable, element);\n",
              "          const docLink = document.createElement('div');\n",
              "          docLink.innerHTML = docLinkHtml;\n",
              "          element.appendChild(docLink);\n",
              "        }\n",
              "      </script>\n",
              "    </div>\n",
              "  </div>\n",
              "  "
            ]
          },
          "metadata": {}
        }
      ]
    },
    {
      "cell_type": "markdown",
      "metadata": {
        "id": "_e-mgPS63j9G"
      },
      "source": [
        "# Acknowledgement \n",
        "Modified from materials prepared by Mathieu Blondel."
      ]
    }
  ],
  "metadata": {
    "colab": {
      "name": "Python basics",
      "provenance": [],
      "include_colab_link": true
    },
    "kernelspec": {
      "display_name": "Python 3",
      "language": "python",
      "name": "python3"
    },
    "language_info": {
      "codemirror_mode": {
        "name": "ipython",
        "version": 3
      },
      "file_extension": ".py",
      "mimetype": "text/x-python",
      "name": "python",
      "nbconvert_exporter": "python",
      "pygments_lexer": "ipython3",
      "version": "3.7.7"
    }
  },
  "nbformat": 4,
  "nbformat_minor": 0
}